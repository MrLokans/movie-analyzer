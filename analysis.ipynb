{
 "cells": [
  {
   "cell_type": "code",
   "execution_count": 1,
   "metadata": {
    "collapsed": false
   },
   "outputs": [],
   "source": [
    "%matplotlib inline\n",
    "\n",
    "import itertools\n",
    "from collections import Counter\n",
    "\n",
    "import pandas as pd\n",
    "import seaborn as sb\n",
    "import numpy as np\n",
    "import matplotlib as mpl\n",
    "import matplotlib.pyplot as plt\n",
    "\n",
    "\n",
    "import pymongo"
   ]
  },
  {
   "cell_type": "code",
   "execution_count": 2,
   "metadata": {
    "collapsed": false
   },
   "outputs": [],
   "source": [
    "client = pymongo.MongoClient()\n",
    "fields = ['title', 'year', 'type', 'metascore', 'genre']\n",
    "cursor = client.movies_db.movies_collection.find({})\n",
    "\n",
    "# Get all movies from the collection\n",
    "movies_df = pd.DataFrame(list(cursor), columns=fields)"
   ]
  },
  {
   "cell_type": "code",
   "execution_count": 3,
   "metadata": {
    "collapsed": false
   },
   "outputs": [
    {
     "data": {
      "text/html": [
       "<div>\n",
       "<table border=\"1\" class=\"dataframe\">\n",
       "  <thead>\n",
       "    <tr style=\"text-align: right;\">\n",
       "      <th></th>\n",
       "      <th>title</th>\n",
       "      <th>year</th>\n",
       "      <th>type</th>\n",
       "      <th>metascore</th>\n",
       "      <th>genre</th>\n",
       "    </tr>\n",
       "  </thead>\n",
       "  <tbody>\n",
       "    <tr>\n",
       "      <th>0</th>\n",
       "      <td>Carmencita</td>\n",
       "      <td>1894</td>\n",
       "      <td>movie</td>\n",
       "      <td>N/A</td>\n",
       "      <td>Documentary, Short</td>\n",
       "    </tr>\n",
       "    <tr>\n",
       "      <th>1</th>\n",
       "      <td>Le clown et ses chiens</td>\n",
       "      <td>1892</td>\n",
       "      <td>movie</td>\n",
       "      <td>N/A</td>\n",
       "      <td>Animation, Short</td>\n",
       "    </tr>\n",
       "    <tr>\n",
       "      <th>2</th>\n",
       "      <td>Pauvre Pierrot</td>\n",
       "      <td>1892</td>\n",
       "      <td>movie</td>\n",
       "      <td>N/A</td>\n",
       "      <td>Animation, Comedy, Short</td>\n",
       "    </tr>\n",
       "    <tr>\n",
       "      <th>3</th>\n",
       "      <td>Un bon bock</td>\n",
       "      <td>1892</td>\n",
       "      <td>movie</td>\n",
       "      <td>N/A</td>\n",
       "      <td>Animation, Short</td>\n",
       "    </tr>\n",
       "    <tr>\n",
       "      <th>4</th>\n",
       "      <td>Blacksmith Scene</td>\n",
       "      <td>1893</td>\n",
       "      <td>movie</td>\n",
       "      <td>N/A</td>\n",
       "      <td>Short</td>\n",
       "    </tr>\n",
       "  </tbody>\n",
       "</table>\n",
       "</div>"
      ],
      "text/plain": [
       "                    title  year   type metascore                     genre\n",
       "0              Carmencita  1894  movie       N/A        Documentary, Short\n",
       "1  Le clown et ses chiens  1892  movie       N/A          Animation, Short\n",
       "2          Pauvre Pierrot  1892  movie       N/A  Animation, Comedy, Short\n",
       "3             Un bon bock  1892  movie       N/A          Animation, Short\n",
       "4        Blacksmith Scene  1893  movie       N/A                     Short"
      ]
     },
     "metadata": {},
     "output_type": "display_data"
    },
    {
     "data": {
      "text/html": [
       "<div>\n",
       "<table border=\"1\" class=\"dataframe\">\n",
       "  <thead>\n",
       "    <tr style=\"text-align: right;\">\n",
       "      <th></th>\n",
       "      <th>title</th>\n",
       "      <th>year</th>\n",
       "      <th>type</th>\n",
       "      <th>metascore</th>\n",
       "      <th>genre</th>\n",
       "    </tr>\n",
       "  </thead>\n",
       "  <tbody>\n",
       "    <tr>\n",
       "      <th>566292</th>\n",
       "      <td>Don't Ever Speak to Me Again</td>\n",
       "      <td>1966</td>\n",
       "      <td>episode</td>\n",
       "      <td>N/A</td>\n",
       "      <td>Comedy, War, Western</td>\n",
       "    </tr>\n",
       "    <tr>\n",
       "      <th>566293</th>\n",
       "      <td>Episode #1.11</td>\n",
       "      <td>1952</td>\n",
       "      <td>episode</td>\n",
       "      <td>N/A</td>\n",
       "      <td>N/A</td>\n",
       "    </tr>\n",
       "    <tr>\n",
       "      <th>566294</th>\n",
       "      <td>Wings</td>\n",
       "      <td>2005</td>\n",
       "      <td>episode</td>\n",
       "      <td>N/A</td>\n",
       "      <td>Crime, Drama, Mystery</td>\n",
       "    </tr>\n",
       "    <tr>\n",
       "      <th>566295</th>\n",
       "      <td>Dirge for the Scourge</td>\n",
       "      <td>1965</td>\n",
       "      <td>episode</td>\n",
       "      <td>N/A</td>\n",
       "      <td>Comedy, War, Western</td>\n",
       "    </tr>\n",
       "    <tr>\n",
       "      <th>566296</th>\n",
       "      <td>Don't Look Now, One of Our Cannon Is Missing</td>\n",
       "      <td>1965</td>\n",
       "      <td>episode</td>\n",
       "      <td>N/A</td>\n",
       "      <td>Comedy, War, Western</td>\n",
       "    </tr>\n",
       "  </tbody>\n",
       "</table>\n",
       "</div>"
      ],
      "text/plain": [
       "                                               title  year     type metascore  \\\n",
       "566292                  Don't Ever Speak to Me Again  1966  episode       N/A   \n",
       "566293                                 Episode #1.11  1952  episode       N/A   \n",
       "566294                                         Wings  2005  episode       N/A   \n",
       "566295                         Dirge for the Scourge  1965  episode       N/A   \n",
       "566296  Don't Look Now, One of Our Cannon Is Missing  1965  episode       N/A   \n",
       "\n",
       "                        genre  \n",
       "566292   Comedy, War, Western  \n",
       "566293                    N/A  \n",
       "566294  Crime, Drama, Mystery  \n",
       "566295   Comedy, War, Western  \n",
       "566296   Comedy, War, Western  "
      ]
     },
     "metadata": {},
     "output_type": "display_data"
    }
   ],
   "source": [
    "from IPython.display import display, HTML\n",
    "display(movies_df.head())\n",
    "display(movies_df.tail())"
   ]
  },
  {
   "cell_type": "code",
   "execution_count": 4,
   "metadata": {
    "collapsed": false
   },
   "outputs": [
    {
     "data": {
      "text/plain": [
       "<matplotlib.axes._subplots.AxesSubplot at 0x7fa034f010f0>"
      ]
     },
     "execution_count": 4,
     "metadata": {},
     "output_type": "execute_result"
    },
    {
     "data": {
      "image/png": "[encoded data removed]",
      "text/plain": [
       "<matplotlib.figure.Figure at 0x7fa068429e10>"
      ]
     },
     "metadata": {},
     "output_type": "display_data"
    }
   ],
   "source": [
    "# What types of movies do we have\n",
    "movies_df['type'].unique()\n",
    "\n",
    "type_series = movies_df['type']\n",
    "type_series = type_series.replace('', 'unknown')\n",
    "\n",
    "type_series.value_counts().plot(kind='pie', legend='True')"
   ]
  },
  {
   "cell_type": "code",
   "execution_count": 5,
   "metadata": {
    "collapsed": false
   },
   "outputs": [
    {
     "data": {
      "text/plain": [
       "<matplotlib.axes._subplots.AxesSubplot at 0x7fa0324ab9b0>"
      ]
     },
     "execution_count": 5,
     "metadata": {},
     "output_type": "execute_result"
    },
    {
     "data": {
      "image/png": "[encoded data removed]",
      "text/plain": [
       "<matplotlib.figure.Figure at 0x7fa0324a9ac8>"
      ]
     },
     "metadata": {},
     "output_type": "display_data"
    }
   ],
   "source": [
    "movies = movies_df[movies_df['type'] == 'movie']\n",
    "\n",
    "movies_with_genres = movies.copy()[(movies['genre'] != 'N/A') & (movies['genre'] != '')]\n",
    "\n",
    "\n",
    "df = movies_with_genres[['year', 'genre']]\n",
    "\n",
    "genres = pd.DataFrame(df.genre.str.split(',').tolist(), index=df.year).stack()\n",
    "genres = genres.reset_index()[[0, 'year']] # var1 variable is currently labeled 0\n",
    "genres.columns = ['genre', 'date'] # renaming var1\n",
    "genres\n",
    "\n",
    "genres['genre'].value_counts().plot(kind='bar')"
   ]
  },
  {
   "cell_type": "code",
   "execution_count": 6,
   "metadata": {
    "collapsed": false
   },
   "outputs": [
    {
     "data": {
      "text/html": [
       "<div>\n",
       "<table border=\"1\" class=\"dataframe\">\n",
       "  <thead>\n",
       "    <tr style=\"text-align: right;\">\n",
       "      <th></th>\n",
       "      <th>genre</th>\n",
       "      <th>date</th>\n",
       "    </tr>\n",
       "  </thead>\n",
       "  <tbody>\n",
       "    <tr>\n",
       "      <th>595627</th>\n",
       "      <td>Sci-Fi</td>\n",
       "      <td>2004-01-01</td>\n",
       "    </tr>\n",
       "    <tr>\n",
       "      <th>595628</th>\n",
       "      <td>Family</td>\n",
       "      <td>1971-01-01</td>\n",
       "    </tr>\n",
       "    <tr>\n",
       "      <th>595629</th>\n",
       "      <td>Adventure</td>\n",
       "      <td>2006-01-01</td>\n",
       "    </tr>\n",
       "    <tr>\n",
       "      <th>595630</th>\n",
       "      <td>Comedy</td>\n",
       "      <td>2006-01-01</td>\n",
       "    </tr>\n",
       "    <tr>\n",
       "      <th>595631</th>\n",
       "      <td>Crime</td>\n",
       "      <td>2006-01-01</td>\n",
       "    </tr>\n",
       "  </tbody>\n",
       "</table>\n",
       "</div>"
      ],
      "text/plain": [
       "            genre       date\n",
       "595627     Sci-Fi 2004-01-01\n",
       "595628     Family 1971-01-01\n",
       "595629  Adventure 2006-01-01\n",
       "595630     Comedy 2006-01-01\n",
       "595631      Crime 2006-01-01"
      ]
     },
     "execution_count": 6,
     "metadata": {},
     "output_type": "execute_result"
    }
   ],
   "source": [
    "# Convert strings date column to time series\n",
    "genres['date'] = pd.to_datetime(genres['date'])\n",
    "# genres.set_index(['date'], inplace=True)\n",
    "genres.tail()"
   ]
  },
  {
   "cell_type": "code",
   "execution_count": 18,
   "metadata": {
    "collapsed": false,
    "scrolled": true
   },
   "outputs": [
    {
     "data": {
      "text/plain": [
       "genre\n",
       " Short         8\n",
       "Documentary    8\n",
       "Short          8\n",
       " Comedy        6\n",
       " Sport         5\n",
       "Comedy         4\n",
       "Name: 1888-01-01 00:00:00, dtype: int64"
      ]
     },
     "execution_count": 18,
     "metadata": {},
     "output_type": "execute_result"
    }
   ],
   "source": [
    "genres_by_decades = genres.groupby('date')['genre'].value_counts().unstack().resample('10AS').count()\n",
    "t = genres_by_decades.transpose()\n",
    "n_largest = t['1888-01-01 '].nlargest(5)\n",
    "n_largest"
   ]
  },
  {
   "cell_type": "code",
   "execution_count": null,
   "metadata": {
    "collapsed": false
   },
   "outputs": [
    {
     "data": {
      "text/html": [
       "\n",
       "    <div class=\"bk-root\">\n",
       "        <a href=\"http://bokeh.pydata.org\" target=\"_blank\" class=\"bk-logo bk-logo-small bk-logo-notebook\"></a>\n",
       "        <span id=\"18a07fdd-de12-4091-be74-84f7954b27cd\">Loading BokehJS ...</span>\n",
       "    </div>"
      ]
     },
     "metadata": {},
     "output_type": "display_data"
    },
    {
     "data": {
      "application/javascript": [
       "\n",
       "(function(global) {\n",
       "  function now() {\n",
       "    return new Date();\n",
       "  }\n",
       "\n",
       "  var force = \"1\";\n",
       "\n",
       "  if (typeof (window._bokeh_onload_callbacks) === \"undefined\" || force !== \"\") {\n",
       "    window._bokeh_onload_callbacks = [];\n",
       "    window._bokeh_is_loading = undefined;\n",
       "  }\n",
       "\n",
       "\n",
       "  \n",
       "  if (typeof (window._bokeh_timeout) === \"undefined\" || force !== \"\") {\n",
       "    window._bokeh_timeout = Date.now() + 5000;\n",
       "    window._bokeh_failed_load = false;\n",
       "  }\n",
       "\n",
       "  var NB_LOAD_WARNING = {'data': {'text/html':\n",
       "     \"<div style='background-color: #fdd'>\\n\"+\n",
       "     \"<p>\\n\"+\n",
       "     \"BokehJS does not appear to have successfully loaded. If loading BokehJS from CDN, this \\n\"+\n",
       "     \"may be due to a slow or bad network connection. Possible fixes:\\n\"+\n",
       "     \"</p>\\n\"+\n",
       "     \"<ul>\\n\"+\n",
       "     \"<li>re-rerun `output_notebook()` to attempt to load from CDN again, or</li>\\n\"+\n",
       "     \"<li>use INLINE resources instead, as so:</li>\\n\"+\n",
       "     \"</ul>\\n\"+\n",
       "     \"<code>\\n\"+\n",
       "     \"from bokeh.resources import INLINE\\n\"+\n",
       "     \"output_notebook(resources=INLINE)\\n\"+\n",
       "     \"</code>\\n\"+\n",
       "     \"</div>\"}};\n",
       "\n",
       "  function display_loaded() {\n",
       "    if (window.Bokeh !== undefined) {\n",
       "      Bokeh.$(\"#18a07fdd-de12-4091-be74-84f7954b27cd\").text(\"BokehJS successfully loaded.\");\n",
       "    } else if (Date.now() < window._bokeh_timeout) {\n",
       "      setTimeout(display_loaded, 100)\n",
       "    }\n",
       "  }\n",
       "\n",
       "  function run_callbacks() {\n",
       "    window._bokeh_onload_callbacks.forEach(function(callback) { callback() });\n",
       "    delete window._bokeh_onload_callbacks\n",
       "    console.info(\"Bokeh: all callbacks have finished\");\n",
       "  }\n",
       "\n",
       "  function load_libs(js_urls, callback) {\n",
       "    window._bokeh_onload_callbacks.push(callback);\n",
       "    if (window._bokeh_is_loading > 0) {\n",
       "      console.log(\"Bokeh: BokehJS is being loaded, scheduling callback at\", now());\n",
       "      return null;\n",
       "    }\n",
       "    if (js_urls == null || js_urls.length === 0) {\n",
       "      run_callbacks();\n",
       "      return null;\n",
       "    }\n",
       "    console.log(\"Bokeh: BokehJS not loaded, scheduling load and callback at\", now());\n",
       "    window._bokeh_is_loading = js_urls.length;\n",
       "    for (var i = 0; i < js_urls.length; i++) {\n",
       "      var url = js_urls[i];\n",
       "      var s = document.createElement('script');\n",
       "      s.src = url;\n",
       "      s.async = false;\n",
       "      s.onreadystatechange = s.onload = function() {\n",
       "        window._bokeh_is_loading--;\n",
       "        if (window._bokeh_is_loading === 0) {\n",
       "          console.log(\"Bokeh: all BokehJS libraries loaded\");\n",
       "          run_callbacks()\n",
       "        }\n",
       "      };\n",
       "      s.onerror = function() {\n",
       "        console.warn(\"failed to load library \" + url);\n",
       "      };\n",
       "      console.log(\"Bokeh: injecting script tag for BokehJS library: \", url);\n",
       "      document.getElementsByTagName(\"head\")[0].appendChild(s);\n",
       "    }\n",
       "  };var element = document.getElementById(\"18a07fdd-de12-4091-be74-84f7954b27cd\");\n",
       "  if (element == null) {\n",
       "    console.log(\"Bokeh: ERROR: autoload.js configured with elementid '18a07fdd-de12-4091-be74-84f7954b27cd' but no matching script tag was found. \")\n",
       "    return false;\n",
       "  }\n",
       "\n",
       "  var js_urls = ['https://cdn.pydata.org/bokeh/release/bokeh-0.12.3.min.js', 'https://cdn.pydata.org/bokeh/release/bokeh-widgets-0.12.3.min.js'];\n",
       "\n",
       "  var inline_js = [\n",
       "    function(Bokeh) {\n",
       "      Bokeh.set_log_level(\"info\");\n",
       "    },\n",
       "    \n",
       "    function(Bokeh) {\n",
       "      \n",
       "      Bokeh.$(\"#18a07fdd-de12-4091-be74-84f7954b27cd\").text(\"BokehJS is loading...\");\n",
       "    },\n",
       "    function(Bokeh) {\n",
       "      console.log(\"Bokeh: injecting CSS: https://cdn.pydata.org/bokeh/release/bokeh-0.12.3.min.css\");\n",
       "      Bokeh.embed.inject_css(\"https://cdn.pydata.org/bokeh/release/bokeh-0.12.3.min.css\");\n",
       "      console.log(\"Bokeh: injecting CSS: https://cdn.pydata.org/bokeh/release/bokeh-widgets-0.12.3.min.css\");\n",
       "      Bokeh.embed.inject_css(\"https://cdn.pydata.org/bokeh/release/bokeh-widgets-0.12.3.min.css\");\n",
       "    }\n",
       "  ];\n",
       "\n",
       "  function run_inline_js() {\n",
       "    \n",
       "    if ((window.Bokeh !== undefined) || (force === \"1\")) {\n",
       "      for (var i = 0; i < inline_js.length; i++) {\n",
       "        inline_js[i](window.Bokeh);\n",
       "      }if (force === \"1\") {\n",
       "        display_loaded();\n",
       "      }} else if (Date.now() < window._bokeh_timeout) {\n",
       "      setTimeout(run_inline_js, 100);\n",
       "    } else if (!window._bokeh_failed_load) {\n",
       "      console.log(\"Bokeh: BokehJS failed to load within specified timeout.\");\n",
       "      window._bokeh_failed_load = true;\n",
       "    } else if (!force) {\n",
       "      var cell = $(\"#18a07fdd-de12-4091-be74-84f7954b27cd\").parents('.cell').data().cell;\n",
       "      cell.output_area.append_execute_result(NB_LOAD_WARNING)\n",
       "    }\n",
       "\n",
       "  }\n",
       "\n",
       "  if (window._bokeh_is_loading === 0) {\n",
       "    console.log(\"Bokeh: BokehJS loaded, going straight to plotting\");\n",
       "    run_inline_js();\n",
       "  } else {\n",
       "    load_libs(js_urls, function() {\n",
       "      console.log(\"Bokeh: BokehJS plotting callback run at\", now());\n",
       "      run_inline_js();\n",
       "    });\n",
       "  }\n",
       "}(this));"
      ]
     },
     "metadata": {},
     "output_type": "display_data"
    },
    {
     "data": {
      "text/html": [
       "\n",
       "\n",
       "    <div class=\"bk-root\">\n",
       "        <div class=\"plotdiv\" id=\"d9554932-15d1-47c1-a64d-677737899084\"></div>\n",
       "    </div>\n",
       "<script type=\"text/javascript\">\n",
       "  \n",
       "  (function(global) {\n",
       "    function now() {\n",
       "      return new Date();\n",
       "    }\n",
       "  \n",
       "    var force = \"\";\n",
       "  \n",
       "    if (typeof (window._bokeh_onload_callbacks) === \"undefined\" || force !== \"\") {\n",
       "      window._bokeh_onload_callbacks = [];\n",
       "      window._bokeh_is_loading = undefined;\n",
       "    }\n",
       "  \n",
       "  \n",
       "    \n",
       "    if (typeof (window._bokeh_timeout) === \"undefined\" || force !== \"\") {\n",
       "      window._bokeh_timeout = Date.now() + 0;\n",
       "      window._bokeh_failed_load = false;\n",
       "    }\n",
       "  \n",
       "    var NB_LOAD_WARNING = {'data': {'text/html':\n",
       "       \"<div style='background-color: #fdd'>\\n\"+\n",
       "       \"<p>\\n\"+\n",
       "       \"BokehJS does not appear to have successfully loaded. If loading BokehJS from CDN, this \\n\"+\n",
       "       \"may be due to a slow or bad network connection. Possible fixes:\\n\"+\n",
       "       \"</p>\\n\"+\n",
       "       \"<ul>\\n\"+\n",
       "       \"<li>re-rerun `output_notebook()` to attempt to load from CDN again, or</li>\\n\"+\n",
       "       \"<li>use INLINE resources instead, as so:</li>\\n\"+\n",
       "       \"</ul>\\n\"+\n",
       "       \"<code>\\n\"+\n",
       "       \"from bokeh.resources import INLINE\\n\"+\n",
       "       \"output_notebook(resources=INLINE)\\n\"+\n",
       "       \"</code>\\n\"+\n",
       "       \"</div>\"}};\n",
       "  \n",
       "    function display_loaded() {\n",
       "      if (window.Bokeh !== undefined) {\n",
       "        Bokeh.$(\"#d9554932-15d1-47c1-a64d-677737899084\").text(\"BokehJS successfully loaded.\");\n",
       "      } else if (Date.now() < window._bokeh_timeout) {\n",
       "        setTimeout(display_loaded, 100)\n",
       "      }\n",
       "    }if ((window.Jupyter !== undefined) && Jupyter.notebook.kernel) {\n",
       "      comm_manager = Jupyter.notebook.kernel.comm_manager\n",
       "      comm_manager.register_target(\"e8a79c9a-db30-445e-b233-ed62cf8f35ab\", function () {});\n",
       "    }\n",
       "  \n",
       "    function run_callbacks() {\n",
       "      window._bokeh_onload_callbacks.forEach(function(callback) { callback() });\n",
       "      delete window._bokeh_onload_callbacks\n",
       "      console.info(\"Bokeh: all callbacks have finished\");\n",
       "    }\n",
       "  \n",
       "    function load_libs(js_urls, callback) {\n",
       "      window._bokeh_onload_callbacks.push(callback);\n",
       "      if (window._bokeh_is_loading > 0) {\n",
       "        console.log(\"Bokeh: BokehJS is being loaded, scheduling callback at\", now());\n",
       "        return null;\n",
       "      }\n",
       "      if (js_urls == null || js_urls.length === 0) {\n",
       "        run_callbacks();\n",
       "        return null;\n",
       "      }\n",
       "      console.log(\"Bokeh: BokehJS not loaded, scheduling load and callback at\", now());\n",
       "      window._bokeh_is_loading = js_urls.length;\n",
       "      for (var i = 0; i < js_urls.length; i++) {\n",
       "        var url = js_urls[i];\n",
       "        var s = document.createElement('script');\n",
       "        s.src = url;\n",
       "        s.async = false;\n",
       "        s.onreadystatechange = s.onload = function() {\n",
       "          window._bokeh_is_loading--;\n",
       "          if (window._bokeh_is_loading === 0) {\n",
       "            console.log(\"Bokeh: all BokehJS libraries loaded\");\n",
       "            run_callbacks()\n",
       "          }\n",
       "        };\n",
       "        s.onerror = function() {\n",
       "          console.warn(\"failed to load library \" + url);\n",
       "        };\n",
       "        console.log(\"Bokeh: injecting script tag for BokehJS library: \", url);\n",
       "        document.getElementsByTagName(\"head\")[0].appendChild(s);\n",
       "      }\n",
       "    };var element = document.getElementById(\"d9554932-15d1-47c1-a64d-677737899084\");\n",
       "    if (element == null) {\n",
       "      console.log(\"Bokeh: ERROR: autoload.js configured with elementid 'd9554932-15d1-47c1-a64d-677737899084' but no matching script tag was found. \")\n",
       "      return false;\n",
       "    }\n",
       "  \n",
       "    var js_urls = [];\n",
       "  \n",
       "    var inline_js = [\n",
       "      function(Bokeh) {\n",
       "        Bokeh.$(function() {\n",
       "            var docs_json = {\"01cfd5c1-fcc0-4714-8b44-0a0f96f88ca8\":{\"roots\":{\"references\":[{\"attributes\":{\"plot\":{\"id\":\"b035399e-fb5b-4f1d-8438-76e3f74e7b28\",\"subtype\":\"Chart\",\"type\":\"Plot\"}},\"id\":\"8ae62869-5e53-4e5a-ab00-2b20e5e55bb4\",\"type\":\"WheelZoomTool\"},{\"attributes\":{\"label\":{\"value\":\"Short\"},\"renderers\":[{\"id\":\"9214b490-cd04-4969-91a9-05b0a7519f0c\",\"type\":\"GlyphRenderer\"}]},\"id\":\"5e785f0c-9ab9-4d70-b8dc-4e7278647e79\",\"type\":\"LegendItem\"},{\"attributes\":{},\"id\":\"5fa59180-ec84-476d-a20a-88290166e549\",\"type\":\"ToolEvents\"},{\"attributes\":{\"callback\":null,\"column_names\":[\"line_color\",\"width\",\"x\",\"fill_alpha\",\"line_alpha\",\"height\",\"label\",\"color\",\"y\"],\"data\":{\"chart_index\":[{\"genre\":\" Sport\",\"unity\":1}],\"color\":[\"#407ee7\"],\"fill_alpha\":[0.8],\"genre\":[\" Sport\"],\"height\":[5.0],\"label\":[{\"genre\":\" Sport\",\"unity\":1}],\"line_alpha\":[1.0],\"line_color\":[\"white\"],\"unity\":[1],\"width\":[0.8],\"x\":[\"1\"],\"y\":[32.5]}},\"id\":\"46666ca8-5f0c-41dd-8ee7-7c832d920162\",\"type\":\"ColumnDataSource\"},{\"attributes\":{\"items\":[{\"id\":\"d591994a-3bc4-4b1e-bbff-fe9743de54c8\",\"type\":\"LegendItem\"},{\"id\":\"366f565f-98dc-4afa-aa53-37d8213907c9\",\"type\":\"LegendItem\"},{\"id\":\"5e785f0c-9ab9-4d70-b8dc-4e7278647e79\",\"type\":\"LegendItem\"},{\"id\":\"5b263499-b0ce-493f-91b3-535369284560\",\"type\":\"LegendItem\"},{\"id\":\"b7860c43-73d1-49a6-9751-1dfcaf62b353\",\"type\":\"LegendItem\"},{\"id\":\"957b107f-382b-454f-a80f-4da7f88f3b42\",\"type\":\"LegendItem\"}],\"location\":\"top_left\",\"plot\":{\"id\":\"b035399e-fb5b-4f1d-8438-76e3f74e7b28\",\"subtype\":\"Chart\",\"type\":\"Plot\"}},\"id\":\"c0fae80d-5170-4830-912b-be95955f641e\",\"type\":\"Legend\"},{\"attributes\":{\"fill_alpha\":{\"field\":\"fill_alpha\"},\"fill_color\":{\"field\":\"color\"},\"height\":{\"field\":\"height\",\"units\":\"data\"},\"line_color\":{\"field\":\"line_color\"},\"width\":{\"field\":\"width\",\"units\":\"data\"},\"x\":{\"field\":\"x\"},\"y\":{\"field\":\"y\"}},\"id\":\"d80e52ab-ee0e-495b-a855-0012451b03de\",\"type\":\"Rect\"},{\"attributes\":{\"fill_alpha\":{\"field\":\"fill_alpha\"},\"fill_color\":{\"field\":\"color\"},\"height\":{\"field\":\"height\",\"units\":\"data\"},\"line_color\":{\"field\":\"line_color\"},\"width\":{\"field\":\"width\",\"units\":\"data\"},\"x\":{\"field\":\"x\"},\"y\":{\"field\":\"y\"}},\"id\":\"fb39ed86-8d8f-4a22-ba55-1729683fd727\",\"type\":\"Rect\"},{\"attributes\":{\"data_source\":{\"id\":\"3f9ab01e-c7db-4794-855c-b0e9ccd4fc47\",\"type\":\"ColumnDataSource\"},\"glyph\":{\"id\":\"d80e52ab-ee0e-495b-a855-0012451b03de\",\"type\":\"Rect\"},\"hover_glyph\":null,\"nonselection_glyph\":null,\"selection_glyph\":null},\"id\":\"9214b490-cd04-4969-91a9-05b0a7519f0c\",\"type\":\"GlyphRenderer\"},{\"attributes\":{\"plot\":null,\"text\":null},\"id\":\"1426eb8f-e934-4c2a-ae81-ab87774cbb91\",\"type\":\"Title\"},{\"attributes\":{},\"id\":\"c1e3a935-15f2-4a4a-92bd-ab84c8fdb5a1\",\"type\":\"BasicTickFormatter\"},{\"attributes\":{\"fill_alpha\":{\"field\":\"fill_alpha\"},\"fill_color\":{\"field\":\"color\"},\"height\":{\"field\":\"height\",\"units\":\"data\"},\"line_color\":{\"field\":\"line_color\"},\"width\":{\"field\":\"width\",\"units\":\"data\"},\"x\":{\"field\":\"x\"},\"y\":{\"field\":\"y\"}},\"id\":\"0faf9379-ca33-498c-a618-2b99c30a4cb3\",\"type\":\"Rect\"},{\"attributes\":{\"data_source\":{\"id\":\"d70d8bae-33c5-4fcf-98d0-ed4c156cfd60\",\"type\":\"ColumnDataSource\"},\"glyph\":{\"id\":\"0faf9379-ca33-498c-a618-2b99c30a4cb3\",\"type\":\"Rect\"},\"hover_glyph\":null,\"nonselection_glyph\":null,\"selection_glyph\":null},\"id\":\"1e713c5a-4ac6-4b64-9cf1-70cf3c41e645\",\"type\":\"GlyphRenderer\"},{\"attributes\":{\"callback\":null,\"column_names\":[\"line_color\",\"width\",\"x\",\"fill_alpha\",\"line_alpha\",\"height\",\"label\",\"color\",\"y\"],\"data\":{\"chart_index\":[{\"genre\":\" Comedy\",\"unity\":1}],\"color\":[\"#f22c40\"],\"fill_alpha\":[0.8],\"genre\":[\" Comedy\"],\"height\":[6.0],\"label\":[{\"genre\":\" Comedy\",\"unity\":1}],\"line_alpha\":[1.0],\"line_color\":[\"white\"],\"unity\":[1],\"width\":[0.8],\"x\":[\"1\"],\"y\":[27.0]}},\"id\":\"e964010f-a644-4612-a7f1-8567d5295924\",\"type\":\"ColumnDataSource\"},{\"attributes\":{\"data_source\":{\"id\":\"e964010f-a644-4612-a7f1-8567d5295924\",\"type\":\"ColumnDataSource\"},\"glyph\":{\"id\":\"fc7ae2b2-e04d-4aae-be1a-a0265b82b254\",\"type\":\"Rect\"},\"hover_glyph\":null,\"nonselection_glyph\":null,\"selection_glyph\":null},\"id\":\"8678d291-80ef-4411-b5c7-027a5fb1b581\",\"type\":\"GlyphRenderer\"},{\"attributes\":{\"label\":{\"value\":\" Comedy\"},\"renderers\":[{\"id\":\"8678d291-80ef-4411-b5c7-027a5fb1b581\",\"type\":\"GlyphRenderer\"}]},\"id\":\"5b263499-b0ce-493f-91b3-535369284560\",\"type\":\"LegendItem\"},{\"attributes\":{\"overlay\":{\"id\":\"8fc41c4e-9eef-4423-a602-44ecfd780e2d\",\"type\":\"BoxAnnotation\"},\"plot\":{\"id\":\"b035399e-fb5b-4f1d-8438-76e3f74e7b28\",\"subtype\":\"Chart\",\"type\":\"Plot\"}},\"id\":\"935466a8-e691-4aec-8919-ffaac3ef8631\",\"type\":\"BoxZoomTool\"},{\"attributes\":{\"below\":[{\"id\":\"eaf995f9-df1a-4d04-a0f6-1d4e1153fe80\",\"type\":\"CategoricalAxis\"}],\"left\":[{\"id\":\"83f3f6c5-1ae7-4162-b754-fabebd66631d\",\"type\":\"LinearAxis\"}],\"renderers\":[{\"id\":\"8fc41c4e-9eef-4423-a602-44ecfd780e2d\",\"type\":\"BoxAnnotation\"},{\"id\":\"3aaa8f76-dd14-48f0-90c9-5ee60022e010\",\"type\":\"GlyphRenderer\"},{\"id\":\"f4a0aff4-3a48-495c-b018-5e2957adf72d\",\"type\":\"GlyphRenderer\"},{\"id\":\"9214b490-cd04-4969-91a9-05b0a7519f0c\",\"type\":\"GlyphRenderer\"},{\"id\":\"8678d291-80ef-4411-b5c7-027a5fb1b581\",\"type\":\"GlyphRenderer\"},{\"id\":\"b653cd50-1500-444f-bd87-299247eafa8a\",\"type\":\"GlyphRenderer\"},{\"id\":\"1e713c5a-4ac6-4b64-9cf1-70cf3c41e645\",\"type\":\"GlyphRenderer\"},{\"id\":\"c0fae80d-5170-4830-912b-be95955f641e\",\"type\":\"Legend\"},{\"id\":\"eaf995f9-df1a-4d04-a0f6-1d4e1153fe80\",\"type\":\"CategoricalAxis\"},{\"id\":\"83f3f6c5-1ae7-4162-b754-fabebd66631d\",\"type\":\"LinearAxis\"},{\"id\":\"a719850d-a0e5-437d-9cd3-dde1686c1ec0\",\"type\":\"Grid\"}],\"title\":{\"id\":\"1426eb8f-e934-4c2a-ae81-ab87774cbb91\",\"type\":\"Title\"},\"tool_events\":{\"id\":\"5fa59180-ec84-476d-a20a-88290166e549\",\"type\":\"ToolEvents\"},\"toolbar\":{\"id\":\"03c6caa2-1b3e-41e9-a68b-6761f7a42b94\",\"type\":\"Toolbar\"},\"x_mapper_type\":\"auto\",\"x_range\":{\"id\":\"e4c2061b-878c-4602-bea2-3a011eb62a58\",\"type\":\"FactorRange\"},\"y_mapper_type\":\"auto\",\"y_range\":{\"id\":\"c775b6cf-58f9-4ea0-9e4f-89fa3a41fa51\",\"type\":\"Range1d\"}},\"id\":\"b035399e-fb5b-4f1d-8438-76e3f74e7b28\",\"subtype\":\"Chart\",\"type\":\"Plot\"},{\"attributes\":{\"fill_alpha\":{\"field\":\"fill_alpha\"},\"fill_color\":{\"field\":\"color\"},\"height\":{\"field\":\"height\",\"units\":\"data\"},\"line_color\":{\"field\":\"line_color\"},\"width\":{\"field\":\"width\",\"units\":\"data\"},\"x\":{\"field\":\"x\"},\"y\":{\"field\":\"y\"}},\"id\":\"4044005f-4a46-4d26-a2f5-4477fa8a234f\",\"type\":\"Rect\"},{\"attributes\":{},\"id\":\"6c2f589c-4870-4faf-8e5b-f8a362b3a9b7\",\"type\":\"CategoricalTicker\"},{\"attributes\":{\"label\":{\"value\":\"Comedy\"},\"renderers\":[{\"id\":\"1e713c5a-4ac6-4b64-9cf1-70cf3c41e645\",\"type\":\"GlyphRenderer\"}]},\"id\":\"957b107f-382b-454f-a80f-4da7f88f3b42\",\"type\":\"LegendItem\"},{\"attributes\":{\"data_source\":{\"id\":\"c0a1cf1e-f329-4733-a049-3e5cd3cade26\",\"type\":\"ColumnDataSource\"},\"glyph\":{\"id\":\"4044005f-4a46-4d26-a2f5-4477fa8a234f\",\"type\":\"Rect\"},\"hover_glyph\":null,\"nonselection_glyph\":null,\"selection_glyph\":null},\"id\":\"3aaa8f76-dd14-48f0-90c9-5ee60022e010\",\"type\":\"GlyphRenderer\"},{\"attributes\":{\"callback\":null,\"column_names\":[\"line_color\",\"width\",\"x\",\"fill_alpha\",\"line_alpha\",\"height\",\"label\",\"color\",\"y\"],\"data\":{\"chart_index\":[{\"genre\":\"Documentary\",\"unity\":1}],\"color\":[\"#00ad9c\"],\"fill_alpha\":[0.8],\"genre\":[\"Documentary\"],\"height\":[8.0],\"label\":[{\"genre\":\"Documentary\",\"unity\":1}],\"line_alpha\":[1.0],\"line_color\":[\"white\"],\"unity\":[1],\"width\":[0.8],\"x\":[\"1\"],\"y\":[12.0]}},\"id\":\"b6f1bd80-37e0-462a-a4c9-2b40e342efee\",\"type\":\"ColumnDataSource\"},{\"attributes\":{\"fill_alpha\":{\"field\":\"fill_alpha\"},\"fill_color\":{\"field\":\"color\"},\"height\":{\"field\":\"height\",\"units\":\"data\"},\"line_color\":{\"field\":\"line_color\"},\"width\":{\"field\":\"width\",\"units\":\"data\"},\"x\":{\"field\":\"x\"},\"y\":{\"field\":\"y\"}},\"id\":\"fc7ae2b2-e04d-4aae-be1a-a0265b82b254\",\"type\":\"Rect\"},{\"attributes\":{},\"id\":\"53980c59-4cc9-41dd-ac0b-c408453cce98\",\"type\":\"BasicTicker\"},{\"attributes\":{\"label\":{\"value\":\" Sport\"},\"renderers\":[{\"id\":\"b653cd50-1500-444f-bd87-299247eafa8a\",\"type\":\"GlyphRenderer\"}]},\"id\":\"b7860c43-73d1-49a6-9751-1dfcaf62b353\",\"type\":\"LegendItem\"},{\"attributes\":{\"active_drag\":\"auto\",\"active_scroll\":\"auto\",\"active_tap\":\"auto\",\"tools\":[{\"id\":\"029bbc9d-6fda-4078-b28c-8fa21c33e95b\",\"type\":\"PanTool\"},{\"id\":\"8ae62869-5e53-4e5a-ab00-2b20e5e55bb4\",\"type\":\"WheelZoomTool\"},{\"id\":\"935466a8-e691-4aec-8919-ffaac3ef8631\",\"type\":\"BoxZoomTool\"},{\"id\":\"519e6bae-2213-47e5-a761-b8856647181e\",\"type\":\"SaveTool\"},{\"id\":\"4f75a126-b440-45d8-81e4-564f6f751f6d\",\"type\":\"ResetTool\"},{\"id\":\"a11a3b88-726c-4d04-abd3-f8a0e583f80e\",\"type\":\"HelpTool\"}]},\"id\":\"03c6caa2-1b3e-41e9-a68b-6761f7a42b94\",\"type\":\"Toolbar\"},{\"attributes\":{\"data_source\":{\"id\":\"b6f1bd80-37e0-462a-a4c9-2b40e342efee\",\"type\":\"ColumnDataSource\"},\"glyph\":{\"id\":\"fb39ed86-8d8f-4a22-ba55-1729683fd727\",\"type\":\"Rect\"},\"hover_glyph\":null,\"nonselection_glyph\":null,\"selection_glyph\":null},\"id\":\"f4a0aff4-3a48-495c-b018-5e2957adf72d\",\"type\":\"GlyphRenderer\"},{\"attributes\":{},\"id\":\"f8f20f94-819c-4c3b-8f16-ead8e283bc25\",\"type\":\"CategoricalTickFormatter\"},{\"attributes\":{\"data_source\":{\"id\":\"46666ca8-5f0c-41dd-8ee7-7c832d920162\",\"type\":\"ColumnDataSource\"},\"glyph\":{\"id\":\"0a5af1c6-4070-4f15-b094-83d12c7a477c\",\"type\":\"Rect\"},\"hover_glyph\":null,\"nonselection_glyph\":null,\"selection_glyph\":null},\"id\":\"b653cd50-1500-444f-bd87-299247eafa8a\",\"type\":\"GlyphRenderer\"},{\"attributes\":{\"plot\":{\"id\":\"b035399e-fb5b-4f1d-8438-76e3f74e7b28\",\"subtype\":\"Chart\",\"type\":\"Plot\"}},\"id\":\"029bbc9d-6fda-4078-b28c-8fa21c33e95b\",\"type\":\"PanTool\"},{\"attributes\":{\"label\":{\"value\":\" Short\"},\"renderers\":[{\"id\":\"3aaa8f76-dd14-48f0-90c9-5ee60022e010\",\"type\":\"GlyphRenderer\"}]},\"id\":\"d591994a-3bc4-4b1e-bbff-fe9743de54c8\",\"type\":\"LegendItem\"},{\"attributes\":{\"plot\":{\"id\":\"b035399e-fb5b-4f1d-8438-76e3f74e7b28\",\"subtype\":\"Chart\",\"type\":\"Plot\"}},\"id\":\"a11a3b88-726c-4d04-abd3-f8a0e583f80e\",\"type\":\"HelpTool\"},{\"attributes\":{\"dimension\":1,\"plot\":{\"id\":\"b035399e-fb5b-4f1d-8438-76e3f74e7b28\",\"subtype\":\"Chart\",\"type\":\"Plot\"},\"ticker\":{\"id\":\"53980c59-4cc9-41dd-ac0b-c408453cce98\",\"type\":\"BasicTicker\"}},\"id\":\"a719850d-a0e5-437d-9cd3-dde1686c1ec0\",\"type\":\"Grid\"},{\"attributes\":{\"plot\":{\"id\":\"b035399e-fb5b-4f1d-8438-76e3f74e7b28\",\"subtype\":\"Chart\",\"type\":\"Plot\"}},\"id\":\"4f75a126-b440-45d8-81e4-564f6f751f6d\",\"type\":\"ResetTool\"},{\"attributes\":{\"label\":{\"value\":\"Documentary\"},\"renderers\":[{\"id\":\"f4a0aff4-3a48-495c-b018-5e2957adf72d\",\"type\":\"GlyphRenderer\"}]},\"id\":\"366f565f-98dc-4afa-aa53-37d8213907c9\",\"type\":\"LegendItem\"},{\"attributes\":{\"callback\":null,\"column_names\":[\"line_color\",\"width\",\"x\",\"fill_alpha\",\"line_alpha\",\"height\",\"label\",\"color\",\"y\"],\"data\":{\"chart_index\":[{\"genre\":\"Comedy\",\"unity\":1}],\"color\":[\"#df5320\"],\"fill_alpha\":[0.8],\"genre\":[\"Comedy\"],\"height\":[4.0],\"label\":[{\"genre\":\"Comedy\",\"unity\":1}],\"line_alpha\":[1.0],\"line_color\":[\"white\"],\"unity\":[1],\"width\":[0.8],\"x\":[\"1\"],\"y\":[37.0]}},\"id\":\"d70d8bae-33c5-4fcf-98d0-ed4c156cfd60\",\"type\":\"ColumnDataSource\"},{\"attributes\":{\"callback\":null,\"end\":40.95},\"id\":\"c775b6cf-58f9-4ea0-9e4f-89fa3a41fa51\",\"type\":\"Range1d\"},{\"attributes\":{\"plot\":{\"id\":\"b035399e-fb5b-4f1d-8438-76e3f74e7b28\",\"subtype\":\"Chart\",\"type\":\"Plot\"}},\"id\":\"519e6bae-2213-47e5-a761-b8856647181e\",\"type\":\"SaveTool\"},{\"attributes\":{\"axis_label\":\"Sum( Count )\",\"formatter\":{\"id\":\"c1e3a935-15f2-4a4a-92bd-ab84c8fdb5a1\",\"type\":\"BasicTickFormatter\"},\"plot\":{\"id\":\"b035399e-fb5b-4f1d-8438-76e3f74e7b28\",\"subtype\":\"Chart\",\"type\":\"Plot\"},\"ticker\":{\"id\":\"53980c59-4cc9-41dd-ac0b-c408453cce98\",\"type\":\"BasicTicker\"}},\"id\":\"83f3f6c5-1ae7-4162-b754-fabebd66631d\",\"type\":\"LinearAxis\"},{\"attributes\":{\"callback\":null,\"column_names\":[\"line_color\",\"width\",\"x\",\"fill_alpha\",\"line_alpha\",\"height\",\"label\",\"color\",\"y\"],\"data\":{\"chart_index\":[{\"genre\":\" Short\",\"unity\":1}],\"color\":[\"#5ab738\"],\"fill_alpha\":[0.8],\"genre\":[\" Short\"],\"height\":[8.0],\"label\":[{\"genre\":\" Short\",\"unity\":1}],\"line_alpha\":[1.0],\"line_color\":[\"white\"],\"unity\":[1],\"width\":[0.8],\"x\":[\"1\"],\"y\":[4.0]}},\"id\":\"c0a1cf1e-f329-4733-a049-3e5cd3cade26\",\"type\":\"ColumnDataSource\"},{\"attributes\":{\"callback\":null,\"column_names\":[\"line_color\",\"width\",\"x\",\"fill_alpha\",\"line_alpha\",\"height\",\"label\",\"color\",\"y\"],\"data\":{\"chart_index\":[{\"genre\":\"Short\",\"unity\":1}],\"color\":[\"#c33ff3\"],\"fill_alpha\":[0.8],\"genre\":[\"Short\"],\"height\":[8.0],\"label\":[{\"genre\":\"Short\",\"unity\":1}],\"line_alpha\":[1.0],\"line_color\":[\"white\"],\"unity\":[1],\"width\":[0.8],\"x\":[\"1\"],\"y\":[20.0]}},\"id\":\"3f9ab01e-c7db-4794-855c-b0e9ccd4fc47\",\"type\":\"ColumnDataSource\"},{\"attributes\":{\"fill_alpha\":{\"field\":\"fill_alpha\"},\"fill_color\":{\"field\":\"color\"},\"height\":{\"field\":\"height\",\"units\":\"data\"},\"line_color\":{\"field\":\"line_color\"},\"width\":{\"field\":\"width\",\"units\":\"data\"},\"x\":{\"field\":\"x\"},\"y\":{\"field\":\"y\"}},\"id\":\"0a5af1c6-4070-4f15-b094-83d12c7a477c\",\"type\":\"Rect\"},{\"attributes\":{\"bottom_units\":\"screen\",\"fill_alpha\":{\"value\":0.5},\"fill_color\":{\"value\":\"lightgrey\"},\"left_units\":\"screen\",\"level\":\"overlay\",\"line_alpha\":{\"value\":1.0},\"line_color\":{\"value\":\"black\"},\"line_dash\":[4,4],\"line_width\":{\"value\":2},\"plot\":null,\"render_mode\":\"css\",\"right_units\":\"screen\",\"top_units\":\"screen\"},\"id\":\"8fc41c4e-9eef-4423-a602-44ecfd780e2d\",\"type\":\"BoxAnnotation\"},{\"attributes\":{\"callback\":null,\"factors\":[\"1\"]},\"id\":\"e4c2061b-878c-4602-bea2-3a011eb62a58\",\"type\":\"FactorRange\"},{\"attributes\":{\"formatter\":{\"id\":\"f8f20f94-819c-4c3b-8f16-ead8e283bc25\",\"type\":\"CategoricalTickFormatter\"},\"major_label_orientation\":0.7853981633974483,\"plot\":{\"id\":\"b035399e-fb5b-4f1d-8438-76e3f74e7b28\",\"subtype\":\"Chart\",\"type\":\"Plot\"},\"ticker\":{\"id\":\"6c2f589c-4870-4faf-8e5b-f8a362b3a9b7\",\"type\":\"CategoricalTicker\"},\"visible\":false},\"id\":\"eaf995f9-df1a-4d04-a0f6-1d4e1153fe80\",\"type\":\"CategoricalAxis\"}],\"root_ids\":[\"b035399e-fb5b-4f1d-8438-76e3f74e7b28\"]},\"title\":\"Bokeh Application\",\"version\":\"0.12.3\"}};\n",
       "            var render_items = [{\"docid\":\"01cfd5c1-fcc0-4714-8b44-0a0f96f88ca8\",\"elementid\":\"d9554932-15d1-47c1-a64d-677737899084\",\"modelid\":\"b035399e-fb5b-4f1d-8438-76e3f74e7b28\",\"notebook_comms_target\":\"e8a79c9a-db30-445e-b233-ed62cf8f35ab\"}];\n",
       "            \n",
       "            Bokeh.embed.embed_items(docs_json, render_items);\n",
       "        });\n",
       "      },\n",
       "      function(Bokeh) {\n",
       "      }\n",
       "    ];\n",
       "  \n",
       "    function run_inline_js() {\n",
       "      \n",
       "      if ((window.Bokeh !== undefined) || (force === \"1\")) {\n",
       "        for (var i = 0; i < inline_js.length; i++) {\n",
       "          inline_js[i](window.Bokeh);\n",
       "        }if (force === \"1\") {\n",
       "          display_loaded();\n",
       "        }} else if (Date.now() < window._bokeh_timeout) {\n",
       "        setTimeout(run_inline_js, 100);\n",
       "      } else if (!window._bokeh_failed_load) {\n",
       "        console.log(\"Bokeh: BokehJS failed to load within specified timeout.\");\n",
       "        window._bokeh_failed_load = true;\n",
       "      } else if (!force) {\n",
       "        var cell = $(\"#d9554932-15d1-47c1-a64d-677737899084\").parents('.cell').data().cell;\n",
       "        cell.output_area.append_execute_result(NB_LOAD_WARNING)\n",
       "      }\n",
       "  \n",
       "    }\n",
       "  \n",
       "    if (window._bokeh_is_loading === 0) {\n",
       "      console.log(\"Bokeh: BokehJS loaded, going straight to plotting\");\n",
       "      run_inline_js();\n",
       "    } else {\n",
       "      load_libs(js_urls, function() {\n",
       "        console.log(\"Bokeh: BokehJS plotting callback run at\", now());\n",
       "        run_inline_js();\n",
       "      });\n",
       "    }\n",
       "  }(this));\n",
       "</script>"
      ]
     },
     "metadata": {},
     "output_type": "display_data"
    },
    {
     "data": {
      "text/html": [
       "<p><code>&lt;Bokeh Notebook handle for <strong>In[58]</strong>&gt;</code></p>"
      ],
      "text/plain": [
       "<bokeh.io._CommsHandle at 0x7fa0320b37f0>"
      ]
     },
     "execution_count": 58,
     "metadata": {},
     "output_type": "execute_result"
    }
   ],
   "source": [
    "from bokeh.charts import Bar, output_notebook, show\n",
    "from collections import Counter\n",
    "\n",
    "\n",
    "df = n_largest.to_frame()\n",
    "df = df.reset_index()\n",
    "df.columns = ['genre', 'count']\n",
    "\n",
    "bar = Bar(df, values='count', stack='genre')\n",
    "output_notebook()\n",
    "show(bar, notebook_handle=True)"
   ]
  },
  {
   "cell_type": "code",
   "execution_count": null,
   "metadata": {
    "collapsed": true
   },
   "outputs": [],
   "source": []
  }
 ],
 "metadata": {
  "kernelspec": {
   "display_name": "Python 3",
   "language": "python",
   "name": "python3"
  },
  "language_info": {
   "codemirror_mode": {
    "name": "ipython",
    "version": 3
   },
   "file_extension": ".py",
   "mimetype": "text/x-python",
   "name": "python",
   "nbconvert_exporter": "python",
   "pygments_lexer": "ipython3",
   "version": "3.5.2"
  }
 },
 "nbformat": 4,
 "nbformat_minor": 0
}
