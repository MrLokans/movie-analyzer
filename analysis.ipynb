{
 "cells": [
  {
   "cell_type": "code",
   "execution_count": 21,
   "metadata": {
    "collapsed": false
   },
   "outputs": [],
   "source": [
    "%matplotlib inline\n",
    "\n",
    "import itertools\n",
    "from collections import Counter\n",
    "\n",
    "import pandas as pd\n",
    "import seaborn as sb\n",
    "import numpy as np\n",
    "import matplotlib as mpl\n",
    "import matplotlib.pyplot as plt\n",
    "\n",
    "\n",
    "import pymongo"
   ]
  },
  {
   "cell_type": "code",
   "execution_count": 16,
   "metadata": {
    "collapsed": false
   },
   "outputs": [],
   "source": [
    "client = pymongo.MongoClient()\n",
    "fields = ['title', 'year', 'type', 'metascore', 'genre']\n",
    "cursor = client.movies_db.movies_collection.find({})\n",
    "\n",
    "# Get all movies from the collection\n",
    "movies_df = pd.DataFrame(list(cursor), columns=fields)"
   ]
  },
  {
   "cell_type": "code",
   "execution_count": 17,
   "metadata": {
    "collapsed": false
   },
   "outputs": [
    {
     "data": {
      "text/html": [
       "<div>\n",
       "<table border=\"1\" class=\"dataframe\">\n",
       "  <thead>\n",
       "    <tr style=\"text-align: right;\">\n",
       "      <th></th>\n",
       "      <th>title</th>\n",
       "      <th>year</th>\n",
       "      <th>type</th>\n",
       "      <th>metascore</th>\n",
       "      <th>genre</th>\n",
       "    </tr>\n",
       "  </thead>\n",
       "  <tbody>\n",
       "    <tr>\n",
       "      <th>0</th>\n",
       "      <td>Carmencita</td>\n",
       "      <td>1894</td>\n",
       "      <td>movie</td>\n",
       "      <td>N/A</td>\n",
       "      <td>Documentary, Short</td>\n",
       "    </tr>\n",
       "    <tr>\n",
       "      <th>1</th>\n",
       "      <td>Le clown et ses chiens</td>\n",
       "      <td>1892</td>\n",
       "      <td>movie</td>\n",
       "      <td>N/A</td>\n",
       "      <td>Animation, Short</td>\n",
       "    </tr>\n",
       "    <tr>\n",
       "      <th>2</th>\n",
       "      <td>Pauvre Pierrot</td>\n",
       "      <td>1892</td>\n",
       "      <td>movie</td>\n",
       "      <td>N/A</td>\n",
       "      <td>Animation, Comedy, Short</td>\n",
       "    </tr>\n",
       "    <tr>\n",
       "      <th>3</th>\n",
       "      <td>Un bon bock</td>\n",
       "      <td>1892</td>\n",
       "      <td>movie</td>\n",
       "      <td>N/A</td>\n",
       "      <td>Animation, Short</td>\n",
       "    </tr>\n",
       "    <tr>\n",
       "      <th>4</th>\n",
       "      <td>Blacksmith Scene</td>\n",
       "      <td>1893</td>\n",
       "      <td>movie</td>\n",
       "      <td>N/A</td>\n",
       "      <td>Short</td>\n",
       "    </tr>\n",
       "  </tbody>\n",
       "</table>\n",
       "</div>"
      ],
      "text/plain": [
       "                    title  year   type metascore                     genre\n",
       "0              Carmencita  1894  movie       N/A        Documentary, Short\n",
       "1  Le clown et ses chiens  1892  movie       N/A          Animation, Short\n",
       "2          Pauvre Pierrot  1892  movie       N/A  Animation, Comedy, Short\n",
       "3             Un bon bock  1892  movie       N/A          Animation, Short\n",
       "4        Blacksmith Scene  1893  movie       N/A                     Short"
      ]
     },
     "metadata": {},
     "output_type": "display_data"
    },
    {
     "data": {
      "text/html": [
       "<div>\n",
       "<table border=\"1\" class=\"dataframe\">\n",
       "  <thead>\n",
       "    <tr style=\"text-align: right;\">\n",
       "      <th></th>\n",
       "      <th>title</th>\n",
       "      <th>year</th>\n",
       "      <th>type</th>\n",
       "      <th>metascore</th>\n",
       "      <th>genre</th>\n",
       "    </tr>\n",
       "  </thead>\n",
       "  <tbody>\n",
       "    <tr>\n",
       "      <th>734294</th>\n",
       "      <td></td>\n",
       "      <td></td>\n",
       "      <td></td>\n",
       "      <td></td>\n",
       "      <td></td>\n",
       "    </tr>\n",
       "    <tr>\n",
       "      <th>734295</th>\n",
       "      <td></td>\n",
       "      <td></td>\n",
       "      <td></td>\n",
       "      <td></td>\n",
       "      <td></td>\n",
       "    </tr>\n",
       "    <tr>\n",
       "      <th>734296</th>\n",
       "      <td></td>\n",
       "      <td></td>\n",
       "      <td></td>\n",
       "      <td></td>\n",
       "      <td></td>\n",
       "    </tr>\n",
       "    <tr>\n",
       "      <th>734297</th>\n",
       "      <td>The Angel Louise</td>\n",
       "      <td>1955</td>\n",
       "      <td>episode</td>\n",
       "      <td>N/A</td>\n",
       "      <td>Adventure</td>\n",
       "    </tr>\n",
       "    <tr>\n",
       "      <th>734298</th>\n",
       "      <td>New Kids on the Block</td>\n",
       "      <td>1999</td>\n",
       "      <td>episode</td>\n",
       "      <td>N/A</td>\n",
       "      <td>Action, Crime, Drama</td>\n",
       "    </tr>\n",
       "  </tbody>\n",
       "</table>\n",
       "</div>"
      ],
      "text/plain": [
       "                        title  year     type metascore                 genre\n",
       "734294                                                                      \n",
       "734295                                                                      \n",
       "734296                                                                      \n",
       "734297       The Angel Louise  1955  episode       N/A             Adventure\n",
       "734298  New Kids on the Block  1999  episode       N/A  Action, Crime, Drama"
      ]
     },
     "metadata": {},
     "output_type": "display_data"
    }
   ],
   "source": [
    "from IPython.display import display, HTML\n",
    "display(movies_df.head())\n",
    "display(movies_df.tail())"
   ]
  },
  {
   "cell_type": "code",
   "execution_count": 19,
   "metadata": {
    "collapsed": false
   },
   "outputs": [],
   "source": [
    "# Clean up data frame\n",
    "\n",
    "# Remove movies with no specified year\n",
    "movies_df = movies_df[movies_df['year'] != '']\n",
    "movies_df = movies_df[movies_df['title'] != '']"
   ]
  },
  {
   "cell_type": "code",
   "execution_count": 22,
   "metadata": {
    "collapsed": false
   },
   "outputs": [
    {
     "data": {
      "text/plain": [
       "<matplotlib.axes._subplots.AxesSubplot at 0x7f5bec8da4a8>"
      ]
     },
     "execution_count": 22,
     "metadata": {},
     "output_type": "execute_result"
    },
    {
     "data": {
      "image/png": "[encoded data removed]",
      "text/plain": [
       "<matplotlib.figure.Figure at 0x7f5becd046d8>"
      ]
     },
     "metadata": {},
     "output_type": "display_data"
    }
   ],
   "source": [
    "# What types of movies do we have\n",
    "movies_df['type'].unique()\n",
    "\n",
    "type_series = movies_df['type']\n",
    "type_series = type_series.replace('', 'unknown')\n",
    "\n",
    "type_series.value_counts().plot(kind='pie', legend='True')"
   ]
  },
  {
   "cell_type": "code",
   "execution_count": 24,
   "metadata": {
    "collapsed": false,
    "scrolled": true
   },
   "outputs": [
    {
     "data": {
      "text/plain": [
       "<matplotlib.axes._subplots.AxesSubplot at 0x7f5c26916b70>"
      ]
     },
     "execution_count": 24,
     "metadata": {},
     "output_type": "execute_result"
    },
    {
     "data": {
      "image/png": "[encoded data removed]",
      "text/plain": [
       "<matplotlib.figure.Figure at 0x7f5c26918a90>"
      ]
     },
     "metadata": {},
     "output_type": "display_data"
    }
   ],
   "source": [
    "movies = movies_df[movies_df['type'] == 'movie']\n",
    "\n",
    "movies_with_genres = movies.copy()[(movies['genre'] != 'N/A') & (movies['genre'] != '')]\n",
    "\n",
    "\n",
    "df = movies_with_genres[['year', 'genre']]\n",
    "\n",
    "genres = pd.DataFrame(df.genre.str.split(',').tolist(), index=df.year).stack()\n",
    "genres = genres.reset_index()[[0, 'year']] # var1 variable is currently labeled 0\n",
    "genres.columns = ['genre', 'date'] # renaming var1\n",
    "genres\n",
    "\n",
    "genres['genre'].value_counts().plot(kind='bar')"
   ]
  },
  {
   "cell_type": "code",
   "execution_count": 25,
   "metadata": {
    "collapsed": false
   },
   "outputs": [
    {
     "data": {
      "text/html": [
       "<div>\n",
       "<table border=\"1\" class=\"dataframe\">\n",
       "  <thead>\n",
       "    <tr style=\"text-align: right;\">\n",
       "      <th></th>\n",
       "      <th>genre</th>\n",
       "      <th>date</th>\n",
       "    </tr>\n",
       "  </thead>\n",
       "  <tbody>\n",
       "    <tr>\n",
       "      <th>595641</th>\n",
       "      <td>Drama</td>\n",
       "      <td>1955-01-01</td>\n",
       "    </tr>\n",
       "    <tr>\n",
       "      <th>595642</th>\n",
       "      <td>Drama</td>\n",
       "      <td>1961-01-01</td>\n",
       "    </tr>\n",
       "    <tr>\n",
       "      <th>595643</th>\n",
       "      <td>Adventure</td>\n",
       "      <td>1987-01-01</td>\n",
       "    </tr>\n",
       "    <tr>\n",
       "      <th>595644</th>\n",
       "      <td>Crime</td>\n",
       "      <td>1987-01-01</td>\n",
       "    </tr>\n",
       "    <tr>\n",
       "      <th>595645</th>\n",
       "      <td>Drama</td>\n",
       "      <td>1987-01-01</td>\n",
       "    </tr>\n",
       "  </tbody>\n",
       "</table>\n",
       "</div>"
      ],
      "text/plain": [
       "            genre       date\n",
       "595641      Drama 1955-01-01\n",
       "595642      Drama 1961-01-01\n",
       "595643  Adventure 1987-01-01\n",
       "595644      Crime 1987-01-01\n",
       "595645      Drama 1987-01-01"
      ]
     },
     "execution_count": 25,
     "metadata": {},
     "output_type": "execute_result"
    }
   ],
   "source": [
    "# Convert strings date column to time series\n",
    "genres['date'] = pd.to_datetime(genres['date'])\n",
    "# genres.set_index(['date'], inplace=True)\n",
    "genres.tail()"
   ]
  },
  {
   "cell_type": "code",
   "execution_count": 26,
   "metadata": {
    "collapsed": false,
    "scrolled": true
   },
   "outputs": [
    {
     "data": {
      "text/plain": [
       "genre\n",
       " Short         8\n",
       "Documentary    8\n",
       "Short          8\n",
       " Comedy        6\n",
       " Sport         5\n",
       "Name: 1888-01-01 00:00:00, dtype: int64"
      ]
     },
     "execution_count": 26,
     "metadata": {},
     "output_type": "execute_result"
    }
   ],
   "source": [
    "genres_by_decades = genres.groupby('date')['genre'].value_counts().unstack().resample('10AS', how='count')\n",
    "t = genres_by_decades.transpose()\n",
    "n_largest = t['1888-01-01 '].nlargest(5)\n",
    "n_largest"
   ]
  },
  {
   "cell_type": "code",
   "execution_count": 29,
   "metadata": {
    "collapsed": false
   },
   "outputs": [
    {
     "data": {
      "text/html": [
       "\n",
       "    <div class=\"bk-banner\">\n",
       "        <a href=\"http://bokeh.pydata.org\" target=\"_blank\" class=\"bk-logo bk-logo-small bk-logo-notebook\"></a>\n",
       "        <span id=\"5baeccf0-fd28-476d-b0f3-8896084788ee\">Loading BokehJS ...</span>\n",
       "    </div>"
      ]
     },
     "metadata": {},
     "output_type": "display_data"
    },
    {
     "data": {
      "application/javascript": [
       "\n",
       "(function(global) {\n",
       "  function now() {\n",
       "    return new Date();\n",
       "  }\n",
       "\n",
       "  if (typeof (window._bokeh_onload_callbacks) === \"undefined\") {\n",
       "    window._bokeh_onload_callbacks = [];\n",
       "  }\n",
       "\n",
       "  function run_callbacks() {\n",
       "    window._bokeh_onload_callbacks.forEach(function(callback) { callback() });\n",
       "    delete window._bokeh_onload_callbacks\n",
       "    console.info(\"Bokeh: all callbacks have finished\");\n",
       "  }\n",
       "\n",
       "  function load_libs(js_urls, callback) {\n",
       "    window._bokeh_onload_callbacks.push(callback);\n",
       "    if (window._bokeh_is_loading > 0) {\n",
       "      console.log(\"Bokeh: BokehJS is being loaded, scheduling callback at\", now());\n",
       "      return null;\n",
       "    }\n",
       "    if (js_urls == null || js_urls.length === 0) {\n",
       "      run_callbacks();\n",
       "      return null;\n",
       "    }\n",
       "    console.log(\"Bokeh: BokehJS not loaded, scheduling load and callback at\", now());\n",
       "    window._bokeh_is_loading = js_urls.length;\n",
       "    for (var i = 0; i < js_urls.length; i++) {\n",
       "      var url = js_urls[i];\n",
       "      var s = document.createElement('script');\n",
       "      s.src = url;\n",
       "      s.async = false;\n",
       "      s.onreadystatechange = s.onload = function() {\n",
       "        window._bokeh_is_loading--;\n",
       "        if (window._bokeh_is_loading === 0) {\n",
       "          console.log(\"Bokeh: all BokehJS libraries loaded\");\n",
       "          run_callbacks()\n",
       "        }\n",
       "      };\n",
       "      s.onerror = function() {\n",
       "        console.warn(\"failed to load library \" + url);\n",
       "      };\n",
       "      console.log(\"Bokeh: injecting script tag for BokehJS library: \", url);\n",
       "      document.getElementsByTagName(\"head\")[0].appendChild(s);\n",
       "    }\n",
       "  };\n",
       "\n",
       "  var js_urls = ['https://cdn.pydata.org/bokeh/release/bokeh-0.11.1.min.js', 'https://cdn.pydata.org/bokeh/release/bokeh-widgets-0.11.1.min.js', 'https://cdn.pydata.org/bokeh/release/bokeh-compiler-0.11.1.min.js'];\n",
       "\n",
       "  var inline_js = [\n",
       "    function(Bokeh) {\n",
       "      Bokeh.set_log_level(\"info\");\n",
       "    },\n",
       "    \n",
       "    function(Bokeh) {\n",
       "      Bokeh.$(\"#5baeccf0-fd28-476d-b0f3-8896084788ee\").text(\"BokehJS successfully loaded\");\n",
       "    },\n",
       "    function(Bokeh) {\n",
       "      console.log(\"Bokeh: injecting CSS: https://cdn.pydata.org/bokeh/release/bokeh-0.11.1.min.css\");\n",
       "      Bokeh.embed.inject_css(\"https://cdn.pydata.org/bokeh/release/bokeh-0.11.1.min.css\");\n",
       "      console.log(\"Bokeh: injecting CSS: https://cdn.pydata.org/bokeh/release/bokeh-widgets-0.11.1.min.css\");\n",
       "      Bokeh.embed.inject_css(\"https://cdn.pydata.org/bokeh/release/bokeh-widgets-0.11.1.min.css\");\n",
       "    }\n",
       "  ];\n",
       "\n",
       "  function run_inline_js() {\n",
       "    for (var i = 0; i < inline_js.length; i++) {\n",
       "      inline_js[i](window.Bokeh);\n",
       "    }\n",
       "  }\n",
       "\n",
       "  if (window._bokeh_is_loading === 0) {\n",
       "    console.log(\"Bokeh: BokehJS loaded, going straight to plotting\");\n",
       "    run_inline_js();\n",
       "  } else {\n",
       "    load_libs(js_urls, function() {\n",
       "      console.log(\"Bokeh: BokehJS plotting callback run at\", now());\n",
       "      run_inline_js();\n",
       "    });\n",
       "  }\n",
       "}(this));"
      ]
     },
     "metadata": {},
     "output_type": "display_data"
    },
    {
     "data": {
      "text/html": [
       "\n",
       "\n",
       "    <div class=\"plotdiv\" id=\"a0fada98-138f-4d1a-b5a7-5d01a594d84d\"></div>\n",
       "<script type=\"text/javascript\">\n",
       "  \n",
       "  (function(global) {\n",
       "    function now() {\n",
       "      return new Date();\n",
       "    }\n",
       "  \n",
       "    if (typeof (window._bokeh_onload_callbacks) === \"undefined\") {\n",
       "      window._bokeh_onload_callbacks = [];\n",
       "    }\n",
       "  \n",
       "    function run_callbacks() {\n",
       "      window._bokeh_onload_callbacks.forEach(function(callback) { callback() });\n",
       "      delete window._bokeh_onload_callbacks\n",
       "      console.info(\"Bokeh: all callbacks have finished\");\n",
       "    }\n",
       "  \n",
       "    function load_libs(js_urls, callback) {\n",
       "      window._bokeh_onload_callbacks.push(callback);\n",
       "      if (window._bokeh_is_loading > 0) {\n",
       "        console.log(\"Bokeh: BokehJS is being loaded, scheduling callback at\", now());\n",
       "        return null;\n",
       "      }\n",
       "      if (js_urls == null || js_urls.length === 0) {\n",
       "        run_callbacks();\n",
       "        return null;\n",
       "      }\n",
       "      console.log(\"Bokeh: BokehJS not loaded, scheduling load and callback at\", now());\n",
       "      window._bokeh_is_loading = js_urls.length;\n",
       "      for (var i = 0; i < js_urls.length; i++) {\n",
       "        var url = js_urls[i];\n",
       "        var s = document.createElement('script');\n",
       "        s.src = url;\n",
       "        s.async = false;\n",
       "        s.onreadystatechange = s.onload = function() {\n",
       "          window._bokeh_is_loading--;\n",
       "          if (window._bokeh_is_loading === 0) {\n",
       "            console.log(\"Bokeh: all BokehJS libraries loaded\");\n",
       "            run_callbacks()\n",
       "          }\n",
       "        };\n",
       "        s.onerror = function() {\n",
       "          console.warn(\"failed to load library \" + url);\n",
       "        };\n",
       "        console.log(\"Bokeh: injecting script tag for BokehJS library: \", url);\n",
       "        document.getElementsByTagName(\"head\")[0].appendChild(s);\n",
       "      }\n",
       "    };var element = document.getElementById(\"a0fada98-138f-4d1a-b5a7-5d01a594d84d\");\n",
       "    if (element == null) {\n",
       "      console.log(\"Bokeh: ERROR: autoload.js configured with elementid 'a0fada98-138f-4d1a-b5a7-5d01a594d84d' but no matching script tag was found. \")\n",
       "      return false;\n",
       "    }\n",
       "  \n",
       "    var js_urls = [];\n",
       "  \n",
       "    var inline_js = [\n",
       "      function(Bokeh) {\n",
       "        Bokeh.$(function() {\n",
       "            var docs_json = {\"81ccce88-3d7e-4d40-aa97-82975c8aa92b\":{\"roots\":{\"references\":[{\"attributes\":{\"data_source\":{\"id\":\"5679d6fe-2498-4fb9-a0fb-cd6535436773\",\"type\":\"ColumnDataSource\"},\"glyph\":{\"id\":\"980a2b1a-3971-4eef-adb9-5981b104b994\",\"type\":\"Rect\"},\"hover_glyph\":null,\"nonselection_glyph\":null,\"selection_glyph\":null},\"id\":\"5c7cefed-922a-423e-abdb-e3e05aaab2ff\",\"type\":\"GlyphRenderer\"},{\"attributes\":{\"fill_alpha\":{\"field\":\"fill_alpha\"},\"fill_color\":{\"field\":\"color\"},\"height\":{\"field\":\"height\",\"units\":\"data\"},\"line_color\":{\"field\":\"line_color\"},\"width\":{\"field\":\"width\",\"units\":\"data\"},\"x\":{\"field\":\"x\"},\"y\":{\"field\":\"y\"}},\"id\":\"32d25a60-ea2b-402b-afce-6b0301c335ac\",\"type\":\"Rect\"},{\"attributes\":{\"callback\":null,\"column_names\":[\"line_color\",\"x\",\"height\",\"line_alpha\",\"fill_alpha\",\"color\",\"width\",\"y\"],\"data\":{\"chart_index\":[{\"genre\":\" Short\",\"unity\":1}],\"color\":[\"#5ab738\"],\"fill_alpha\":[0.8],\"genre\":[\" Short\"],\"height\":[8.0],\"line_alpha\":[1.0],\"line_color\":[\"white\"],\"unity\":[1],\"width\":[0.8],\"x\":[\"1\"],\"y\":[4.0]}},\"id\":\"28f0d274-7bce-44fe-94c6-893e07c120c2\",\"type\":\"ColumnDataSource\"},{\"attributes\":{\"fill_alpha\":{\"field\":\"fill_alpha\"},\"fill_color\":{\"field\":\"color\"},\"height\":{\"field\":\"height\",\"units\":\"data\"},\"line_color\":{\"field\":\"line_color\"},\"width\":{\"field\":\"width\",\"units\":\"data\"},\"x\":{\"field\":\"x\"},\"y\":{\"field\":\"y\"}},\"id\":\"7caf0ea6-8e41-4482-b87f-403fed4606de\",\"type\":\"Rect\"},{\"attributes\":{\"callback\":null,\"column_names\":[\"line_color\",\"x\",\"height\",\"line_alpha\",\"fill_alpha\",\"color\",\"width\",\"y\"],\"data\":{\"chart_index\":[{\"genre\":\"Documentary\",\"unity\":1}],\"color\":[\"#df5320\"],\"fill_alpha\":[0.8],\"genre\":[\"Documentary\"],\"height\":[8.0],\"line_alpha\":[1.0],\"line_color\":[\"white\"],\"unity\":[1],\"width\":[0.8],\"x\":[\"1\"],\"y\":[12.0]}},\"id\":\"8d87ebf5-5f68-4cad-86e7-f831f749a779\",\"type\":\"ColumnDataSource\"},{\"attributes\":{},\"id\":\"ac3b43e8-6325-4fd3-9fd2-68d9f4a55b46\",\"type\":\"ToolEvents\"},{\"attributes\":{\"bottom_units\":\"screen\",\"fill_alpha\":{\"value\":0.5},\"fill_color\":{\"value\":\"lightgrey\"},\"left_units\":\"screen\",\"level\":\"overlay\",\"line_alpha\":{\"value\":1.0},\"line_color\":{\"value\":\"black\"},\"line_dash\":[4,4],\"line_width\":{\"value\":2},\"plot\":null,\"render_mode\":\"css\",\"right_units\":\"screen\",\"top_units\":\"screen\"},\"id\":\"fb4f3508-40cf-4aee-863d-b36286dc9d05\",\"type\":\"BoxAnnotation\"},{\"attributes\":{\"data_source\":{\"id\":\"6af25161-5466-4f79-a253-2cec5707fce4\",\"type\":\"ColumnDataSource\"},\"glyph\":{\"id\":\"7caf0ea6-8e41-4482-b87f-403fed4606de\",\"type\":\"Rect\"},\"hover_glyph\":null,\"nonselection_glyph\":null,\"selection_glyph\":null},\"id\":\"c46d11a2-1861-42d4-933f-b8e79cee1c65\",\"type\":\"GlyphRenderer\"},{\"attributes\":{\"bottom_units\":\"screen\",\"fill_alpha\":{\"value\":0.5},\"fill_color\":{\"value\":\"lightgrey\"},\"left_units\":\"screen\",\"level\":\"overlay\",\"line_alpha\":{\"value\":1.0},\"line_color\":{\"value\":\"black\"},\"line_dash\":[4,4],\"line_width\":{\"value\":2},\"plot\":null,\"render_mode\":\"css\",\"right_units\":\"screen\",\"top_units\":\"screen\"},\"id\":\"074ce5b2-5b22-459f-b3eb-747fa25f6b12\",\"type\":\"BoxAnnotation\"},{\"attributes\":{\"fill_alpha\":{\"field\":\"fill_alpha\"},\"fill_color\":{\"field\":\"color\"},\"height\":{\"field\":\"height\",\"units\":\"data\"},\"line_color\":{\"field\":\"line_color\"},\"width\":{\"field\":\"width\",\"units\":\"data\"},\"x\":{\"field\":\"x\"},\"y\":{\"field\":\"y\"}},\"id\":\"58ee008c-06f5-4151-8948-4ce1e56534e9\",\"type\":\"Rect\"},{\"attributes\":{\"callback\":null,\"factors\":[\"1\"]},\"id\":\"8cd26e63-fdf5-4eb6-8f53-8f315c5c0c94\",\"type\":\"FactorRange\"},{\"attributes\":{\"data_source\":{\"id\":\"019e9be3-71d7-4d72-96e9-b974fa444281\",\"type\":\"ColumnDataSource\"},\"glyph\":{\"id\":\"c2b8b403-ae60-4b1c-a238-a85ebfc46d62\",\"type\":\"Rect\"},\"hover_glyph\":null,\"nonselection_glyph\":null,\"selection_glyph\":null},\"id\":\"812498fd-829b-4cbd-a27f-9aeae703a755\",\"type\":\"GlyphRenderer\"},{\"attributes\":{\"plot\":{\"id\":\"da7bcbe6-98c6-44ef-9b53-6b9ec3f1c9a0\",\"subtype\":\"Chart\",\"type\":\"Plot\"}},\"id\":\"1322c7d7-e134-46d8-a947-5c6b59e0a335\",\"type\":\"PreviewSaveTool\"},{\"attributes\":{\"callback\":null,\"end\":36.75},\"id\":\"eee108c7-221d-4ca9-b7f3-9b211ed6550e\",\"type\":\"Range1d\"},{\"attributes\":{\"plot\":{\"id\":\"044d8226-8328-4e4c-8fb8-794c7a99380d\",\"subtype\":\"Chart\",\"type\":\"Plot\"}},\"id\":\"4d1c0cde-fcbe-4d45-917b-939375d47a2c\",\"type\":\"ResetTool\"},{\"attributes\":{\"data_source\":{\"id\":\"b1806244-9f81-4066-b297-ca5fa66221db\",\"type\":\"ColumnDataSource\"},\"glyph\":{\"id\":\"32d25a60-ea2b-402b-afce-6b0301c335ac\",\"type\":\"Rect\"},\"hover_glyph\":null,\"nonselection_glyph\":null,\"selection_glyph\":null},\"id\":\"9631e7b0-5a20-438f-9f8b-adece0cfe468\",\"type\":\"GlyphRenderer\"},{\"attributes\":{\"callback\":null,\"column_names\":[\"line_color\",\"x\",\"height\",\"line_alpha\",\"fill_alpha\",\"color\",\"width\",\"y\"],\"data\":{\"chart_index\":[{\"genre\":\" Short\",\"unity\":1}],\"color\":[\"#5ab738\"],\"fill_alpha\":[0.8],\"genre\":[\" Short\"],\"height\":[8.0],\"line_alpha\":[1.0],\"line_color\":[\"white\"],\"unity\":[1],\"width\":[0.8],\"x\":[\"1\"],\"y\":[4.0]}},\"id\":\"b5bd2940-201e-4996-b72f-48362b46447c\",\"type\":\"ColumnDataSource\"},{\"attributes\":{\"callback\":null,\"column_names\":[\"line_color\",\"x\",\"height\",\"line_alpha\",\"fill_alpha\",\"color\",\"width\",\"y\"],\"data\":{\"chart_index\":[{\"genre\":\" Comedy\",\"unity\":1}],\"color\":[\"#f22c40\"],\"fill_alpha\":[0.8],\"genre\":[\" Comedy\"],\"height\":[6.0],\"line_alpha\":[1.0],\"line_color\":[\"white\"],\"unity\":[1],\"width\":[0.8],\"x\":[\"1\"],\"y\":[27.0]}},\"id\":\"6e112987-17f7-46e0-9827-f5f502be3a60\",\"type\":\"ColumnDataSource\"},{\"attributes\":{\"plot\":{\"id\":\"044d8226-8328-4e4c-8fb8-794c7a99380d\",\"subtype\":\"Chart\",\"type\":\"Plot\"}},\"id\":\"f11a7218-0de1-402a-bde7-7f241a4e7dd7\",\"type\":\"HelpTool\"},{\"attributes\":{\"dimension\":1,\"plot\":{\"id\":\"044d8226-8328-4e4c-8fb8-794c7a99380d\",\"subtype\":\"Chart\",\"type\":\"Plot\"},\"ticker\":{\"id\":\"b7fbe6fa-7439-4711-8ef8-7cf34c3bcd93\",\"type\":\"BasicTicker\"}},\"id\":\"888837d2-156d-47cd-a8e7-ddd9e93a25d6\",\"type\":\"Grid\"},{\"attributes\":{\"plot\":{\"id\":\"044d8226-8328-4e4c-8fb8-794c7a99380d\",\"subtype\":\"Chart\",\"type\":\"Plot\"}},\"id\":\"345f8075-4d28-4bfb-8fa3-11396387aec6\",\"type\":\"PreviewSaveTool\"},{\"attributes\":{\"data_source\":{\"id\":\"21ee1ba4-5144-4536-afb7-8d585a460791\",\"type\":\"ColumnDataSource\"},\"glyph\":{\"id\":\"58ee008c-06f5-4151-8948-4ce1e56534e9\",\"type\":\"Rect\"},\"hover_glyph\":null,\"nonselection_glyph\":null,\"selection_glyph\":null},\"id\":\"2fd60b40-9e1f-44bf-b135-d92f21743ab6\",\"type\":\"GlyphRenderer\"},{\"attributes\":{},\"id\":\"6b124faa-ced9-405b-99d0-764df4d94e25\",\"type\":\"BasicTicker\"},{\"attributes\":{\"callback\":null,\"column_names\":[\"line_color\",\"x\",\"height\",\"line_alpha\",\"fill_alpha\",\"color\",\"width\",\"y\"],\"data\":{\"chart_index\":[{\"genre\":\" Sport\",\"unity\":1}],\"color\":[\"#407ee7\"],\"fill_alpha\":[0.8],\"genre\":[\" Sport\"],\"height\":[5.0],\"line_alpha\":[1.0],\"line_color\":[\"white\"],\"unity\":[1],\"width\":[0.8],\"x\":[\"1\"],\"y\":[32.5]}},\"id\":\"b1806244-9f81-4066-b297-ca5fa66221db\",\"type\":\"ColumnDataSource\"},{\"attributes\":{\"plot\":{\"id\":\"da7bcbe6-98c6-44ef-9b53-6b9ec3f1c9a0\",\"subtype\":\"Chart\",\"type\":\"Plot\"}},\"id\":\"913b9b26-21b5-45c9-b7ce-794b61a75e57\",\"type\":\"HelpTool\"},{\"attributes\":{\"plot\":{\"id\":\"044d8226-8328-4e4c-8fb8-794c7a99380d\",\"subtype\":\"Chart\",\"type\":\"Plot\"}},\"id\":\"ac575c61-3864-453a-92d2-0b1b4426158f\",\"type\":\"ResizeTool\"},{\"attributes\":{\"plot\":{\"id\":\"da7bcbe6-98c6-44ef-9b53-6b9ec3f1c9a0\",\"subtype\":\"Chart\",\"type\":\"Plot\"}},\"id\":\"8538313d-77ca-4f4d-8b02-c2093769c757\",\"type\":\"WheelZoomTool\"},{\"attributes\":{\"overlay\":{\"id\":\"074ce5b2-5b22-459f-b3eb-747fa25f6b12\",\"type\":\"BoxAnnotation\"},\"plot\":{\"id\":\"044d8226-8328-4e4c-8fb8-794c7a99380d\",\"subtype\":\"Chart\",\"type\":\"Plot\"}},\"id\":\"92c6ea1f-d1fc-4a7d-907b-759352bb9034\",\"type\":\"BoxZoomTool\"},{\"attributes\":{\"formatter\":{\"id\":\"b2457356-50b5-4827-ad62-b9254ed67ab3\",\"type\":\"CategoricalTickFormatter\"},\"major_label_orientation\":0.7853981633974483,\"plot\":{\"id\":\"da7bcbe6-98c6-44ef-9b53-6b9ec3f1c9a0\",\"subtype\":\"Chart\",\"type\":\"Plot\"},\"ticker\":{\"id\":\"90585f62-ef4d-4f26-a9cd-4960519f48fa\",\"type\":\"CategoricalTicker\"},\"visible\":false},\"id\":\"8772968f-041c-4c54-aa81-5775711c0f70\",\"type\":\"CategoricalAxis\"},{\"attributes\":{\"axis_label\":\"Sum( Count )\",\"formatter\":{\"id\":\"7353e22b-5557-439c-8c41-6d09c15f9229\",\"type\":\"BasicTickFormatter\"},\"plot\":{\"id\":\"044d8226-8328-4e4c-8fb8-794c7a99380d\",\"subtype\":\"Chart\",\"type\":\"Plot\"},\"ticker\":{\"id\":\"b7fbe6fa-7439-4711-8ef8-7cf34c3bcd93\",\"type\":\"BasicTicker\"}},\"id\":\"6f60a07d-99b6-4f5f-b071-582fc1b1d82c\",\"type\":\"LinearAxis\"},{\"attributes\":{\"data_source\":{\"id\":\"8d87ebf5-5f68-4cad-86e7-f831f749a779\",\"type\":\"ColumnDataSource\"},\"glyph\":{\"id\":\"f2519982-0711-476b-b1a4-1e9ca297596d\",\"type\":\"Rect\"},\"hover_glyph\":null,\"nonselection_glyph\":null,\"selection_glyph\":null},\"id\":\"a62f87a3-cfae-4510-8c14-93db65688f26\",\"type\":\"GlyphRenderer\"},{\"attributes\":{\"plot\":{\"id\":\"da7bcbe6-98c6-44ef-9b53-6b9ec3f1c9a0\",\"subtype\":\"Chart\",\"type\":\"Plot\"}},\"id\":\"71c47d7e-2e87-47b1-ad02-100d8c5e5807\",\"type\":\"ResetTool\"},{\"attributes\":{\"fill_alpha\":{\"field\":\"fill_alpha\"},\"fill_color\":{\"field\":\"color\"},\"height\":{\"field\":\"height\",\"units\":\"data\"},\"line_color\":{\"field\":\"line_color\"},\"width\":{\"field\":\"width\",\"units\":\"data\"},\"x\":{\"field\":\"x\"},\"y\":{\"field\":\"y\"}},\"id\":\"c2b8b403-ae60-4b1c-a238-a85ebfc46d62\",\"type\":\"Rect\"},{\"attributes\":{\"plot\":{\"id\":\"da7bcbe6-98c6-44ef-9b53-6b9ec3f1c9a0\",\"subtype\":\"Chart\",\"type\":\"Plot\"}},\"id\":\"6ea3b682-3243-40d8-9854-fa487514cefc\",\"type\":\"PanTool\"},{\"attributes\":{\"callback\":null,\"column_names\":[\"line_color\",\"x\",\"height\",\"line_alpha\",\"fill_alpha\",\"color\",\"width\",\"y\"],\"data\":{\"chart_index\":[{\"genre\":\"Short\",\"unity\":1}],\"color\":[\"#00ad9c\"],\"fill_alpha\":[0.8],\"genre\":[\"Short\"],\"height\":[8.0],\"line_alpha\":[1.0],\"line_color\":[\"white\"],\"unity\":[1],\"width\":[0.8],\"x\":[\"1\"],\"y\":[20.0]}},\"id\":\"6af25161-5466-4f79-a253-2cec5707fce4\",\"type\":\"ColumnDataSource\"},{\"attributes\":{\"fill_alpha\":{\"field\":\"fill_alpha\"},\"fill_color\":{\"field\":\"color\"},\"height\":{\"field\":\"height\",\"units\":\"data\"},\"line_color\":{\"field\":\"line_color\"},\"width\":{\"field\":\"width\",\"units\":\"data\"},\"x\":{\"field\":\"x\"},\"y\":{\"field\":\"y\"}},\"id\":\"f58c69e9-d01b-43bb-96e4-fde244662f7b\",\"type\":\"Rect\"},{\"attributes\":{\"fill_alpha\":{\"field\":\"fill_alpha\"},\"fill_color\":{\"field\":\"color\"},\"height\":{\"field\":\"height\",\"units\":\"data\"},\"line_color\":{\"field\":\"line_color\"},\"width\":{\"field\":\"width\",\"units\":\"data\"},\"x\":{\"field\":\"x\"},\"y\":{\"field\":\"y\"}},\"id\":\"f2519982-0711-476b-b1a4-1e9ca297596d\",\"type\":\"Rect\"},{\"attributes\":{\"formatter\":{\"id\":\"8f1f0485-9750-4c64-aa38-eee7382ce6e6\",\"type\":\"CategoricalTickFormatter\"},\"major_label_orientation\":0.7853981633974483,\"plot\":{\"id\":\"044d8226-8328-4e4c-8fb8-794c7a99380d\",\"subtype\":\"Chart\",\"type\":\"Plot\"},\"ticker\":{\"id\":\"b1ecd51a-2ae0-4a8a-a80a-d9fce29546c7\",\"type\":\"CategoricalTicker\"},\"visible\":false},\"id\":\"78c00ff5-ac09-407c-be59-c7bee6e1abfc\",\"type\":\"CategoricalAxis\"},{\"attributes\":{},\"id\":\"7353e22b-5557-439c-8c41-6d09c15f9229\",\"type\":\"BasicTickFormatter\"},{\"attributes\":{\"data_source\":{\"id\":\"6e112987-17f7-46e0-9827-f5f502be3a60\",\"type\":\"ColumnDataSource\"},\"glyph\":{\"id\":\"f58c69e9-d01b-43bb-96e4-fde244662f7b\",\"type\":\"Rect\"},\"hover_glyph\":null,\"nonselection_glyph\":null,\"selection_glyph\":null},\"id\":\"20737790-1345-417f-a473-83cbad95e1de\",\"type\":\"GlyphRenderer\"},{\"attributes\":{\"data_source\":{\"id\":\"7bd4ad65-baee-437b-b81d-f666fe21d162\",\"type\":\"ColumnDataSource\"},\"glyph\":{\"id\":\"bc72c22b-e8a5-4e0e-b485-8b4823508123\",\"type\":\"Rect\"},\"hover_glyph\":null,\"nonselection_glyph\":null,\"selection_glyph\":null},\"id\":\"708738de-bb44-4b04-8b67-f5c7bb67025d\",\"type\":\"GlyphRenderer\"},{\"attributes\":{\"callback\":null,\"factors\":[\"1\"]},\"id\":\"991dec4f-97c1-4bc7-9e50-195ac4ce9fcf\",\"type\":\"FactorRange\"},{\"attributes\":{},\"id\":\"90585f62-ef4d-4f26-a9cd-4960519f48fa\",\"type\":\"CategoricalTicker\"},{\"attributes\":{\"data_source\":{\"id\":\"28f0d274-7bce-44fe-94c6-893e07c120c2\",\"type\":\"ColumnDataSource\"},\"glyph\":{\"id\":\"d22f8217-619a-485a-8c0f-d0e17e9d3c67\",\"type\":\"Rect\"},\"hover_glyph\":null,\"nonselection_glyph\":null,\"selection_glyph\":null},\"id\":\"a211c511-9e9c-45ac-9afa-1618d42eea80\",\"type\":\"GlyphRenderer\"},{\"attributes\":{},\"id\":\"b1ecd51a-2ae0-4a8a-a80a-d9fce29546c7\",\"type\":\"CategoricalTicker\"},{\"attributes\":{},\"id\":\"865bda65-cdc0-4690-9594-b308943b3896\",\"type\":\"BasicTickFormatter\"},{\"attributes\":{\"plot\":{\"id\":\"044d8226-8328-4e4c-8fb8-794c7a99380d\",\"subtype\":\"Chart\",\"type\":\"Plot\"}},\"id\":\"40cbf15c-b9ab-43e8-9897-dd7e65c1bbe6\",\"type\":\"WheelZoomTool\"},{\"attributes\":{\"fill_alpha\":{\"field\":\"fill_alpha\"},\"fill_color\":{\"field\":\"color\"},\"height\":{\"field\":\"height\",\"units\":\"data\"},\"line_color\":{\"field\":\"line_color\"},\"width\":{\"field\":\"width\",\"units\":\"data\"},\"x\":{\"field\":\"x\"},\"y\":{\"field\":\"y\"}},\"id\":\"bc72c22b-e8a5-4e0e-b485-8b4823508123\",\"type\":\"Rect\"},{\"attributes\":{\"overlay\":{\"id\":\"fb4f3508-40cf-4aee-863d-b36286dc9d05\",\"type\":\"BoxAnnotation\"},\"plot\":{\"id\":\"da7bcbe6-98c6-44ef-9b53-6b9ec3f1c9a0\",\"subtype\":\"Chart\",\"type\":\"Plot\"}},\"id\":\"4d0d27b3-f226-4ddd-94fb-0725710ffd5f\",\"type\":\"BoxZoomTool\"},{\"attributes\":{\"plot\":{\"id\":\"044d8226-8328-4e4c-8fb8-794c7a99380d\",\"subtype\":\"Chart\",\"type\":\"Plot\"}},\"id\":\"86063304-f3fe-440f-a5f3-d52725291ca6\",\"type\":\"PanTool\"},{\"attributes\":{\"callback\":null,\"end\":36.75},\"id\":\"834663d0-dae5-4e26-9459-ae17886c1635\",\"type\":\"Range1d\"},{\"attributes\":{\"callback\":null,\"column_names\":[\"line_color\",\"x\",\"height\",\"line_alpha\",\"fill_alpha\",\"color\",\"width\",\"y\"],\"data\":{\"chart_index\":[{\"genre\":\"Short\",\"unity\":1}],\"color\":[\"#00ad9c\"],\"fill_alpha\":[0.8],\"genre\":[\"Short\"],\"height\":[8.0],\"line_alpha\":[1.0],\"line_color\":[\"white\"],\"unity\":[1],\"width\":[0.8],\"x\":[\"1\"],\"y\":[20.0]}},\"id\":\"7bd4ad65-baee-437b-b81d-f666fe21d162\",\"type\":\"ColumnDataSource\"},{\"attributes\":{},\"id\":\"8f1f0485-9750-4c64-aa38-eee7382ce6e6\",\"type\":\"CategoricalTickFormatter\"},{\"attributes\":{\"data_source\":{\"id\":\"b5bd2940-201e-4996-b72f-48362b46447c\",\"type\":\"ColumnDataSource\"},\"glyph\":{\"id\":\"c55f17f1-ffd4-4c64-a93e-9f5b58e0179d\",\"type\":\"Rect\"},\"hover_glyph\":null,\"nonselection_glyph\":null,\"selection_glyph\":null},\"id\":\"457ed329-d31b-4db1-b243-b09373b0244d\",\"type\":\"GlyphRenderer\"},{\"attributes\":{\"callback\":null,\"column_names\":[\"line_color\",\"x\",\"height\",\"line_alpha\",\"fill_alpha\",\"color\",\"width\",\"y\"],\"data\":{\"chart_index\":[{\"genre\":\" Sport\",\"unity\":1}],\"color\":[\"#407ee7\"],\"fill_alpha\":[0.8],\"genre\":[\" Sport\"],\"height\":[5.0],\"line_alpha\":[1.0],\"line_color\":[\"white\"],\"unity\":[1],\"width\":[0.8],\"x\":[\"1\"],\"y\":[32.5]}},\"id\":\"21ee1ba4-5144-4536-afb7-8d585a460791\",\"type\":\"ColumnDataSource\"},{\"attributes\":{\"fill_alpha\":{\"field\":\"fill_alpha\"},\"fill_color\":{\"field\":\"color\"},\"height\":{\"field\":\"height\",\"units\":\"data\"},\"line_color\":{\"field\":\"line_color\"},\"width\":{\"field\":\"width\",\"units\":\"data\"},\"x\":{\"field\":\"x\"},\"y\":{\"field\":\"y\"}},\"id\":\"980a2b1a-3971-4eef-adb9-5981b104b994\",\"type\":\"Rect\"},{\"attributes\":{},\"id\":\"b7fbe6fa-7439-4711-8ef8-7cf34c3bcd93\",\"type\":\"BasicTicker\"},{\"attributes\":{\"callback\":null,\"column_names\":[\"line_color\",\"x\",\"height\",\"line_alpha\",\"fill_alpha\",\"color\",\"width\",\"y\"],\"data\":{\"chart_index\":[{\"genre\":\" Comedy\",\"unity\":1}],\"color\":[\"#f22c40\"],\"fill_alpha\":[0.8],\"genre\":[\" Comedy\"],\"height\":[6.0],\"line_alpha\":[1.0],\"line_color\":[\"white\"],\"unity\":[1],\"width\":[0.8],\"x\":[\"1\"],\"y\":[27.0]}},\"id\":\"019e9be3-71d7-4d72-96e9-b974fa444281\",\"type\":\"ColumnDataSource\"},{\"attributes\":{\"below\":[{\"id\":\"78c00ff5-ac09-407c-be59-c7bee6e1abfc\",\"type\":\"CategoricalAxis\"}],\"left\":[{\"id\":\"6f60a07d-99b6-4f5f-b071-582fc1b1d82c\",\"type\":\"LinearAxis\"}],\"legend\":null,\"renderers\":[{\"id\":\"074ce5b2-5b22-459f-b3eb-747fa25f6b12\",\"type\":\"BoxAnnotation\"},{\"id\":\"457ed329-d31b-4db1-b243-b09373b0244d\",\"type\":\"GlyphRenderer\"},{\"id\":\"a62f87a3-cfae-4510-8c14-93db65688f26\",\"type\":\"GlyphRenderer\"},{\"id\":\"708738de-bb44-4b04-8b67-f5c7bb67025d\",\"type\":\"GlyphRenderer\"},{\"id\":\"812498fd-829b-4cbd-a27f-9aeae703a755\",\"type\":\"GlyphRenderer\"},{\"id\":\"9631e7b0-5a20-438f-9f8b-adece0cfe468\",\"type\":\"GlyphRenderer\"},{\"id\":\"78c00ff5-ac09-407c-be59-c7bee6e1abfc\",\"type\":\"CategoricalAxis\"},{\"id\":\"6f60a07d-99b6-4f5f-b071-582fc1b1d82c\",\"type\":\"LinearAxis\"},{\"id\":\"888837d2-156d-47cd-a8e7-ddd9e93a25d6\",\"type\":\"Grid\"}],\"title_text_font_size\":{\"value\":\"14pt\"},\"tool_events\":{\"id\":\"ac3b43e8-6325-4fd3-9fd2-68d9f4a55b46\",\"type\":\"ToolEvents\"},\"tools\":[{\"id\":\"86063304-f3fe-440f-a5f3-d52725291ca6\",\"type\":\"PanTool\"},{\"id\":\"40cbf15c-b9ab-43e8-9897-dd7e65c1bbe6\",\"type\":\"WheelZoomTool\"},{\"id\":\"92c6ea1f-d1fc-4a7d-907b-759352bb9034\",\"type\":\"BoxZoomTool\"},{\"id\":\"345f8075-4d28-4bfb-8fa3-11396387aec6\",\"type\":\"PreviewSaveTool\"},{\"id\":\"ac575c61-3864-453a-92d2-0b1b4426158f\",\"type\":\"ResizeTool\"},{\"id\":\"4d1c0cde-fcbe-4d45-917b-939375d47a2c\",\"type\":\"ResetTool\"},{\"id\":\"f11a7218-0de1-402a-bde7-7f241a4e7dd7\",\"type\":\"HelpTool\"}],\"x_mapper_type\":\"auto\",\"x_range\":{\"id\":\"8cd26e63-fdf5-4eb6-8f53-8f315c5c0c94\",\"type\":\"FactorRange\"},\"xgrid\":false,\"xscale\":\"auto\",\"y_mapper_type\":\"auto\",\"y_range\":{\"id\":\"eee108c7-221d-4ca9-b7f3-9b211ed6550e\",\"type\":\"Range1d\"},\"yscale\":\"auto\"},\"id\":\"044d8226-8328-4e4c-8fb8-794c7a99380d\",\"subtype\":\"Chart\",\"type\":\"Plot\"},{\"attributes\":{\"dimension\":1,\"plot\":{\"id\":\"da7bcbe6-98c6-44ef-9b53-6b9ec3f1c9a0\",\"subtype\":\"Chart\",\"type\":\"Plot\"},\"ticker\":{\"id\":\"6b124faa-ced9-405b-99d0-764df4d94e25\",\"type\":\"BasicTicker\"}},\"id\":\"24400292-4bc4-4691-98af-f6d9b147d700\",\"type\":\"Grid\"},{\"attributes\":{},\"id\":\"18db5647-3142-4bd4-9778-84c7c1b76b2a\",\"type\":\"ToolEvents\"},{\"attributes\":{\"plot\":{\"id\":\"da7bcbe6-98c6-44ef-9b53-6b9ec3f1c9a0\",\"subtype\":\"Chart\",\"type\":\"Plot\"}},\"id\":\"b400b568-8ef0-4496-9b5f-19f672730d2c\",\"type\":\"ResizeTool\"},{\"attributes\":{\"below\":[{\"id\":\"8772968f-041c-4c54-aa81-5775711c0f70\",\"type\":\"CategoricalAxis\"}],\"left\":[{\"id\":\"ed50f5a9-3019-4b34-8d0b-b7c2a2f624d5\",\"type\":\"LinearAxis\"}],\"legend\":null,\"renderers\":[{\"id\":\"fb4f3508-40cf-4aee-863d-b36286dc9d05\",\"type\":\"BoxAnnotation\"},{\"id\":\"a211c511-9e9c-45ac-9afa-1618d42eea80\",\"type\":\"GlyphRenderer\"},{\"id\":\"5c7cefed-922a-423e-abdb-e3e05aaab2ff\",\"type\":\"GlyphRenderer\"},{\"id\":\"c46d11a2-1861-42d4-933f-b8e79cee1c65\",\"type\":\"GlyphRenderer\"},{\"id\":\"20737790-1345-417f-a473-83cbad95e1de\",\"type\":\"GlyphRenderer\"},{\"id\":\"2fd60b40-9e1f-44bf-b135-d92f21743ab6\",\"type\":\"GlyphRenderer\"},{\"id\":\"8772968f-041c-4c54-aa81-5775711c0f70\",\"type\":\"CategoricalAxis\"},{\"id\":\"ed50f5a9-3019-4b34-8d0b-b7c2a2f624d5\",\"type\":\"LinearAxis\"},{\"id\":\"24400292-4bc4-4691-98af-f6d9b147d700\",\"type\":\"Grid\"}],\"title_text_font_size\":{\"value\":\"14pt\"},\"tool_events\":{\"id\":\"18db5647-3142-4bd4-9778-84c7c1b76b2a\",\"type\":\"ToolEvents\"},\"tools\":[{\"id\":\"6ea3b682-3243-40d8-9854-fa487514cefc\",\"type\":\"PanTool\"},{\"id\":\"8538313d-77ca-4f4d-8b02-c2093769c757\",\"type\":\"WheelZoomTool\"},{\"id\":\"4d0d27b3-f226-4ddd-94fb-0725710ffd5f\",\"type\":\"BoxZoomTool\"},{\"id\":\"1322c7d7-e134-46d8-a947-5c6b59e0a335\",\"type\":\"PreviewSaveTool\"},{\"id\":\"b400b568-8ef0-4496-9b5f-19f672730d2c\",\"type\":\"ResizeTool\"},{\"id\":\"71c47d7e-2e87-47b1-ad02-100d8c5e5807\",\"type\":\"ResetTool\"},{\"id\":\"913b9b26-21b5-45c9-b7ce-794b61a75e57\",\"type\":\"HelpTool\"}],\"x_mapper_type\":\"auto\",\"x_range\":{\"id\":\"991dec4f-97c1-4bc7-9e50-195ac4ce9fcf\",\"type\":\"FactorRange\"},\"xgrid\":false,\"xscale\":\"auto\",\"y_mapper_type\":\"auto\",\"y_range\":{\"id\":\"834663d0-dae5-4e26-9459-ae17886c1635\",\"type\":\"Range1d\"},\"yscale\":\"auto\"},\"id\":\"da7bcbe6-98c6-44ef-9b53-6b9ec3f1c9a0\",\"subtype\":\"Chart\",\"type\":\"Plot\"},{\"attributes\":{},\"id\":\"b2457356-50b5-4827-ad62-b9254ed67ab3\",\"type\":\"CategoricalTickFormatter\"},{\"attributes\":{\"axis_label\":\"Sum( Count )\",\"formatter\":{\"id\":\"865bda65-cdc0-4690-9594-b308943b3896\",\"type\":\"BasicTickFormatter\"},\"plot\":{\"id\":\"da7bcbe6-98c6-44ef-9b53-6b9ec3f1c9a0\",\"subtype\":\"Chart\",\"type\":\"Plot\"},\"ticker\":{\"id\":\"6b124faa-ced9-405b-99d0-764df4d94e25\",\"type\":\"BasicTicker\"}},\"id\":\"ed50f5a9-3019-4b34-8d0b-b7c2a2f624d5\",\"type\":\"LinearAxis\"},{\"attributes\":{\"fill_alpha\":{\"field\":\"fill_alpha\"},\"fill_color\":{\"field\":\"color\"},\"height\":{\"field\":\"height\",\"units\":\"data\"},\"line_color\":{\"field\":\"line_color\"},\"width\":{\"field\":\"width\",\"units\":\"data\"},\"x\":{\"field\":\"x\"},\"y\":{\"field\":\"y\"}},\"id\":\"d22f8217-619a-485a-8c0f-d0e17e9d3c67\",\"type\":\"Rect\"},{\"attributes\":{\"callback\":null,\"column_names\":[\"line_color\",\"x\",\"height\",\"line_alpha\",\"fill_alpha\",\"color\",\"width\",\"y\"],\"data\":{\"chart_index\":[{\"genre\":\"Documentary\",\"unity\":1}],\"color\":[\"#df5320\"],\"fill_alpha\":[0.8],\"genre\":[\"Documentary\"],\"height\":[8.0],\"line_alpha\":[1.0],\"line_color\":[\"white\"],\"unity\":[1],\"width\":[0.8],\"x\":[\"1\"],\"y\":[12.0]}},\"id\":\"5679d6fe-2498-4fb9-a0fb-cd6535436773\",\"type\":\"ColumnDataSource\"},{\"attributes\":{\"fill_alpha\":{\"field\":\"fill_alpha\"},\"fill_color\":{\"field\":\"color\"},\"height\":{\"field\":\"height\",\"units\":\"data\"},\"line_color\":{\"field\":\"line_color\"},\"width\":{\"field\":\"width\",\"units\":\"data\"},\"x\":{\"field\":\"x\"},\"y\":{\"field\":\"y\"}},\"id\":\"c55f17f1-ffd4-4c64-a93e-9f5b58e0179d\",\"type\":\"Rect\"}],\"root_ids\":[\"044d8226-8328-4e4c-8fb8-794c7a99380d\",\"da7bcbe6-98c6-44ef-9b53-6b9ec3f1c9a0\"]},\"title\":\"Bokeh Application\",\"version\":\"0.11.1\"}};\n",
       "            var render_items = [{\"docid\":\"81ccce88-3d7e-4d40-aa97-82975c8aa92b\",\"elementid\":\"a0fada98-138f-4d1a-b5a7-5d01a594d84d\",\"modelid\":\"da7bcbe6-98c6-44ef-9b53-6b9ec3f1c9a0\",\"notebook_comms_target\":\"f4ea4abc-eac3-4af2-addb-94a460557ab9\"}];\n",
       "            \n",
       "            Bokeh.embed.embed_items(docs_json, render_items);\n",
       "        });\n",
       "      },\n",
       "      function(Bokeh) {\n",
       "      }\n",
       "    ];\n",
       "  \n",
       "    function run_inline_js() {\n",
       "      for (var i = 0; i < inline_js.length; i++) {\n",
       "        inline_js[i](window.Bokeh);\n",
       "      }\n",
       "    }\n",
       "  \n",
       "    if (window._bokeh_is_loading === 0) {\n",
       "      console.log(\"Bokeh: BokehJS loaded, going straight to plotting\");\n",
       "      run_inline_js();\n",
       "    } else {\n",
       "      load_libs(js_urls, function() {\n",
       "        console.log(\"Bokeh: BokehJS plotting callback run at\", now());\n",
       "        run_inline_js();\n",
       "      });\n",
       "    }\n",
       "  }(this));\n",
       "</script>"
      ]
     },
     "metadata": {},
     "output_type": "display_data"
    }
   ],
   "source": [
    "from bokeh.io import push_notebook, show, output_notebook\n",
    "from bokeh.charts import Bar\n",
    "# from collections import Counter\n",
    "\n",
    "output_notebook()\n",
    "\n",
    "df = n_largest.to_frame()\n",
    "df = df.reset_index()\n",
    "df.columns = ['genre', 'count']\n",
    "\n",
    "\n",
    "bar = Bar(df, values='count', stack='genre')\n",
    "\n",
    "handle = show(bar)\n",
    "# push_notebook(handle=handle)\n",
    "\n",
    "# df2 = pd.DataFrame(np.random.rand(10, 4), columns=['a', 'b', 'c', 'd'])\n",
    "# df2.plot.bar\n",
    "# np.random.rand(10, 4)"
   ]
  },
  {
   "cell_type": "code",
   "execution_count": null,
   "metadata": {
    "collapsed": true
   },
   "outputs": [],
   "source": [
    "df[['genre', 'count']].plot"
   ]
  },
  {
   "cell_type": "code",
   "execution_count": null,
   "metadata": {
    "collapsed": true
   },
   "outputs": [],
   "source": []
  }
 ],
 "metadata": {
  "kernelspec": {
   "display_name": "Python 3",
   "language": "python",
   "name": "python3"
  },
  "language_info": {
   "codemirror_mode": {
    "name": "ipython",
    "version": 3
   },
   "file_extension": ".py",
   "mimetype": "text/x-python",
   "name": "python",
   "nbconvert_exporter": "python",
   "pygments_lexer": "ipython3",
   "version": "3.5.2"
  }
 },
 "nbformat": 4,
 "nbformat_minor": 0
}
